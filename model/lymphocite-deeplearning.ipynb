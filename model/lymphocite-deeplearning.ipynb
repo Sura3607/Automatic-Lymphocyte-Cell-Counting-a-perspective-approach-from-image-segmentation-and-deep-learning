{
 "cells": [
  {
   "cell_type": "code",
   "execution_count": 1,
   "id": "85556f3a",
   "metadata": {
    "_cell_guid": "b1076dfc-b9ad-4769-8c92-a6c4dae69d19",
    "_uuid": "8f2839f25d086af736a60e9eeb907d3b93b6e0e5",
    "execution": {
     "iopub.execute_input": "2025-09-06T09:03:11.430328Z",
     "iopub.status.busy": "2025-09-06T09:03:11.430071Z",
     "iopub.status.idle": "2025-09-06T09:04:22.931566Z",
     "shell.execute_reply": "2025-09-06T09:04:22.930786Z"
    },
    "papermill": {
     "duration": 71.507864,
     "end_time": "2025-09-06T09:04:22.933190",
     "exception": false,
     "start_time": "2025-09-06T09:03:11.425326",
     "status": "completed"
    },
    "tags": []
   },
   "outputs": [
    {
     "name": "stdout",
     "output_type": "stream",
     "text": [
      "\u001b[2K   \u001b[90m━━━━━━━━━━━━━━━━━━━━━━━━━━━━━━━━━━━━━━━━\u001b[0m \u001b[32m154.8/154.8 kB\u001b[0m \u001b[31m4.8 MB/s\u001b[0m eta \u001b[36m0:00:00\u001b[0m\r\n",
      "\u001b[2K   \u001b[90m━━━━━━━━━━━━━━━━━━━━━━━━━━━━━━━━━━━━━━━━\u001b[0m \u001b[32m363.4/363.4 MB\u001b[0m \u001b[31m4.9 MB/s\u001b[0m eta \u001b[36m0:00:00\u001b[0m\r\n",
      "\u001b[2K   \u001b[90m━━━━━━━━━━━━━━━━━━━━━━━━━━━━━━━━━━━━━━━━\u001b[0m \u001b[32m13.8/13.8 MB\u001b[0m \u001b[31m88.3 MB/s\u001b[0m eta \u001b[36m0:00:00\u001b[0m\r\n",
      "\u001b[2K   \u001b[90m━━━━━━━━━━━━━━━━━━━━━━━━━━━━━━━━━━━━━━━━\u001b[0m \u001b[32m24.6/24.6 MB\u001b[0m \u001b[31m68.8 MB/s\u001b[0m eta \u001b[36m0:00:00\u001b[0m\r\n",
      "\u001b[2K   \u001b[90m━━━━━━━━━━━━━━━━━━━━━━━━━━━━━━━━━━━━━━━━\u001b[0m \u001b[32m883.7/883.7 kB\u001b[0m \u001b[31m54.5 MB/s\u001b[0m eta \u001b[36m0:00:00\u001b[0m\r\n",
      "\u001b[2K   \u001b[90m━━━━━━━━━━━━━━━━━━━━━━━━━━━━━━━━━━━━━━━━\u001b[0m \u001b[32m664.8/664.8 MB\u001b[0m \u001b[31m2.6 MB/s\u001b[0m eta \u001b[36m0:00:00\u001b[0m\r\n",
      "\u001b[2K   \u001b[90m━━━━━━━━━━━━━━━━━━━━━━━━━━━━━━━━━━━━━━━━\u001b[0m \u001b[32m211.5/211.5 MB\u001b[0m \u001b[31m8.1 MB/s\u001b[0m eta \u001b[36m0:00:00\u001b[0m\r\n",
      "\u001b[2K   \u001b[90m━━━━━━━━━━━━━━━━━━━━━━━━━━━━━━━━━━━━━━━━\u001b[0m \u001b[32m56.3/56.3 MB\u001b[0m \u001b[31m30.7 MB/s\u001b[0m eta \u001b[36m0:00:00\u001b[0m\r\n",
      "\u001b[2K   \u001b[90m━━━━━━━━━━━━━━━━━━━━━━━━━━━━━━━━━━━━━━━━\u001b[0m \u001b[32m127.9/127.9 MB\u001b[0m \u001b[31m13.5 MB/s\u001b[0m eta \u001b[36m0:00:00\u001b[0m\r\n",
      "\u001b[2K   \u001b[90m━━━━━━━━━━━━━━━━━━━━━━━━━━━━━━━━━━━━━━━━\u001b[0m \u001b[32m207.5/207.5 MB\u001b[0m \u001b[31m8.3 MB/s\u001b[0m eta \u001b[36m0:00:00\u001b[0m\r\n",
      "\u001b[2K   \u001b[90m━━━━━━━━━━━━━━━━━━━━━━━━━━━━━━━━━━━━━━━━\u001b[0m \u001b[32m21.1/21.1 MB\u001b[0m \u001b[31m70.0 MB/s\u001b[0m eta \u001b[36m0:00:00\u001b[0m\r\n",
      "\u001b[?25h"
     ]
    }
   ],
   "source": [
    "!pip install -q segmentation-models-pytorch tqdm albumentations \n",
    "# !pip install -q ultralytics"
   ]
  },
  {
   "cell_type": "code",
   "execution_count": 2,
   "id": "197410f5",
   "metadata": {
    "execution": {
     "iopub.execute_input": "2025-09-06T09:04:22.970659Z",
     "iopub.status.busy": "2025-09-06T09:04:22.970106Z",
     "iopub.status.idle": "2025-09-06T09:04:38.974148Z",
     "shell.execute_reply": "2025-09-06T09:04:38.973380Z"
    },
    "papermill": {
     "duration": 16.023498,
     "end_time": "2025-09-06T09:04:38.975622",
     "exception": false,
     "start_time": "2025-09-06T09:04:22.952124",
     "status": "completed"
    },
    "tags": []
   },
   "outputs": [],
   "source": [
    "import os\n",
    "import numpy as np\n",
    "import pandas as pd\n",
    "import matplotlib.pyplot as plt\n",
    "import cv2\n",
    "import torch\n",
    "import torch.nn as nn\n",
    "import torch.optim as optim\n",
    "from torch.utils.data import Dataset, DataLoader\n",
    "import torchvision.transforms as transforms\n",
    "import torchvision.transforms as T\n",
    "from tqdm import tqdm\n",
    "import albumentations as A\n",
    "from albumentations.pytorch import ToTensorV2\n",
    "import segmentation_models_pytorch as smp\n",
    "from skimage.segmentation import active_contour\n",
    "from skimage import img_as_float\n",
    "from skimage.draw import polygon2mask\n",
    "from skimage.segmentation import chan_vese\n",
    "from skimage import measure\n",
    "\n",
    "# from ultralytics import YOLO\n",
    "from google.colab.patches import cv2_imshow"
   ]
  },
  {
   "cell_type": "code",
   "execution_count": 3,
   "id": "edabce74",
   "metadata": {
    "execution": {
     "iopub.execute_input": "2025-09-06T09:04:39.010334Z",
     "iopub.status.busy": "2025-09-06T09:04:39.009943Z",
     "iopub.status.idle": "2025-09-06T09:04:39.124984Z",
     "shell.execute_reply": "2025-09-06T09:04:39.124224Z"
    },
    "papermill": {
     "duration": 0.13329,
     "end_time": "2025-09-06T09:04:39.126128",
     "exception": false,
     "start_time": "2025-09-06T09:04:38.992838",
     "status": "completed"
    },
    "tags": []
   },
   "outputs": [
    {
     "name": "stdout",
     "output_type": "stream",
     "text": [
      "Using device: cuda\n",
      "Using 2 GPUs\n"
     ]
    }
   ],
   "source": [
    "# Sử dụng 2 GPU\n",
    "device = torch.device('cuda' if torch.cuda.is_available() else 'cpu')\n",
    "print(f\"Using device: {device}\")\n",
    "if torch.cuda.device_count() > 1:\n",
    "    print(f\"Using {torch.cuda.device_count()} GPUs\")"
   ]
  },
  {
   "cell_type": "markdown",
   "id": "b9662399",
   "metadata": {
    "papermill": {
     "duration": 0.016367,
     "end_time": "2025-09-06T09:04:39.159155",
     "exception": false,
     "start_time": "2025-09-06T09:04:39.142788",
     "status": "completed"
    },
    "tags": []
   },
   "source": [
    "# U-Net"
   ]
  },
  {
   "cell_type": "code",
   "execution_count": 4,
   "id": "0a24c189",
   "metadata": {
    "execution": {
     "iopub.execute_input": "2025-09-06T09:04:39.193342Z",
     "iopub.status.busy": "2025-09-06T09:04:39.192901Z",
     "iopub.status.idle": "2025-09-06T09:04:39.207891Z",
     "shell.execute_reply": "2025-09-06T09:04:39.207331Z"
    },
    "papermill": {
     "duration": 0.033343,
     "end_time": "2025-09-06T09:04:39.209087",
     "exception": false,
     "start_time": "2025-09-06T09:04:39.175744",
     "status": "completed"
    },
    "tags": []
   },
   "outputs": [],
   "source": [
    "class CellSegDataset(Dataset):\n",
    "    def __init__(self, images_dir, masks_dir, transform=None):\n",
    "        self.images_dir = images_dir\n",
    "        self.masks_dir = masks_dir\n",
    "        self.image_files = sorted(os.listdir(images_dir))\n",
    "        self.transform = transform\n",
    "\n",
    "    def __len__(self):\n",
    "        return len(self.image_files)\n",
    "\n",
    "    def __getitem__(self, idx):\n",
    "        img_name = self.image_files[idx]\n",
    "        img_path = os.path.join(self.images_dir, img_name)\n",
    "        mask_path = os.path.join(self.masks_dir, f\"MASK_{os.path.splitext(img_name)[0]}.png\")\n",
    "\n",
    "        # Đọc ảnh RGB bằng cv2, convert từ BGR sang RGB\n",
    "        image = cv2.imread(img_path, cv2.IMREAD_COLOR)\n",
    "        image = cv2.cvtColor(image, cv2.COLOR_BGR2RGB)\n",
    "\n",
    "        # Đọc mask grayscale (nhị phân)\n",
    "        mask = cv2.imread(mask_path, cv2.IMREAD_GRAYSCALE)\n",
    "\n",
    "        if self.transform:\n",
    "            augmented = self.transform(image=image, mask=mask)\n",
    "            image = augmented[\"image\"]\n",
    "            mask = augmented[\"mask\"]\n",
    "\n",
    "        # Convert mask về tensor và chuẩn hóa 0/1 float\n",
    "        if isinstance(mask, np.ndarray):\n",
    "            mask = torch.from_numpy((mask > 0).astype(\"np.int64\"))\n",
    "        elif isinstance(mask, torch.Tensor):\n",
    "            mask = (mask > 0).long()\n",
    "        else:\n",
    "            raise TypeError(f\"Unsupported mask type: {type(mask)}\")\n",
    "\n",
    "        # Nếu mask 2D thì thêm channel dim\n",
    "        if mask.dim() == 2:\n",
    "            mask = mask.unsqueeze(0)\n",
    "\n",
    "        return image, mask\n",
    "\n",
    "\n",
    "# train_transform = A.Compose([\n",
    "#     A.Resize(256, 256),\n",
    "#     A.HorizontalFlip(p=0.5),\n",
    "#     A.VerticalFlip(p=0.5),\n",
    "#     A.RandomRotate90(p=0.5),\n",
    "#     A.Normalize(mean=(0.0, 0.0, 0.0), std=(1.0, 1.0, 1.0)),\n",
    "#     ToTensorV2()\n",
    "# ])\n",
    "train_transform = A.Compose([\n",
    "    A.Resize(256, 256),\n",
    "\n",
    "    # Flip ngang/dọc\n",
    "    A.HorizontalFlip(p=0.5),\n",
    "    A.VerticalFlip(p=0.5),\n",
    "\n",
    "    # Xoay ±15 độ (nhẹ hơn so với 30)\n",
    "    A.Rotate(limit=15, p=0.5),\n",
    "\n",
    "    # Crop nhẹ (chỉ zoom in/out một chút)\n",
    "    A.RandomResizedCrop(size=(256, 256), scale=(0.9, 1.0), p=0.3),\n",
    "\n",
    "    # Affine rất nhẹ (dịch chuyển nhỏ, không shear)\n",
    "    A.Affine(scale=(0.95, 1.05), translate_percent=(0.02, 0.02), rotate=(-10, 10), p=0.3),\n",
    "\n",
    "    # Chuẩn hóa và Tensor\n",
    "    A.Normalize(mean=(0.0, 0.0, 0.0), std=(1.0, 1.0, 1.0)),\n",
    "    ToTensorV2()\n",
    "])\n",
    "\n",
    "#val/test\n",
    "test_transform = A.Compose([\n",
    "    A.Resize(256, 256),\n",
    "    A.Normalize(mean=(0.0, 0.0, 0.0), std=(1.0, 1.0, 1.0)),\n",
    "    ToTensorV2()\n",
    "])"
   ]
  },
  {
   "cell_type": "code",
   "execution_count": 5,
   "id": "3e56917a",
   "metadata": {
    "execution": {
     "iopub.execute_input": "2025-09-06T09:04:39.243204Z",
     "iopub.status.busy": "2025-09-06T09:04:39.243003Z",
     "iopub.status.idle": "2025-09-06T09:04:39.283565Z",
     "shell.execute_reply": "2025-09-06T09:04:39.283027Z"
    },
    "papermill": {
     "duration": 0.058953,
     "end_time": "2025-09-06T09:04:39.284587",
     "exception": false,
     "start_time": "2025-09-06T09:04:39.225634",
     "status": "completed"
    },
    "tags": []
   },
   "outputs": [
    {
     "name": "stdout",
     "output_type": "stream",
     "text": [
      "Train samples: 93, Valid samples: 10, Test samples: 4\n"
     ]
    }
   ],
   "source": [
    "base_dir = \"/kaggle/input/cell-counting-roboflow-segmentation-masks/Cell_Counting_dataset_from_roboflow\"\n",
    "\n",
    "train_dataset = CellSegDataset(\n",
    "    images_dir=os.path.join(base_dir, \"train/images\"),\n",
    "    masks_dir=os.path.join(base_dir, \"train/masks_binary\"),\n",
    "    transform=train_transform\n",
    ")\n",
    "\n",
    "val_dataset = CellSegDataset(\n",
    "    images_dir=os.path.join(base_dir, \"valid/images\"),\n",
    "    masks_dir=os.path.join(base_dir, \"valid/masks_binary\"),\n",
    "    transform=test_transform\n",
    ")\n",
    "\n",
    "test_dataset = CellSegDataset(\n",
    "    images_dir=os.path.join(base_dir, \"test/images\"),\n",
    "    masks_dir=os.path.join(base_dir, \"test/masks_binary\"),\n",
    "    transform=test_transform\n",
    ")\n",
    "\n",
    "train_loader = DataLoader(train_dataset, batch_size=8, shuffle=True, num_workers=4)\n",
    "val_loader = DataLoader(val_dataset, batch_size=8, shuffle=False, num_workers=4)\n",
    "test_loader = DataLoader(test_dataset, batch_size=8, shuffle=False, num_workers=4)\n",
    "\n",
    "print(f\"Train samples: {len(train_dataset)}, Valid samples: {len(val_dataset)}, Test samples: {len(test_dataset)}\")"
   ]
  },
  {
   "cell_type": "code",
   "execution_count": 6,
   "id": "1588fb16",
   "metadata": {
    "execution": {
     "iopub.execute_input": "2025-09-06T09:04:39.319416Z",
     "iopub.status.busy": "2025-09-06T09:04:39.319237Z",
     "iopub.status.idle": "2025-09-06T09:04:42.568465Z",
     "shell.execute_reply": "2025-09-06T09:04:42.567708Z"
    },
    "papermill": {
     "duration": 3.267646,
     "end_time": "2025-09-06T09:04:42.569545",
     "exception": false,
     "start_time": "2025-09-06T09:04:39.301899",
     "status": "completed"
    },
    "tags": []
   },
   "outputs": [
    {
     "data": {
      "application/vnd.jupyter.widget-view+json": {
       "model_id": "96c6c7c1bec44888bd98e4eeac1be66a",
       "version_major": 2,
       "version_minor": 0
      },
      "text/plain": [
       "config.json:   0%|          | 0.00/156 [00:00<?, ?B/s]"
      ]
     },
     "metadata": {},
     "output_type": "display_data"
    },
    {
     "data": {
      "application/vnd.jupyter.widget-view+json": {
       "model_id": "351f29a642974df0b9832b659928753e",
       "version_major": 2,
       "version_minor": 0
      },
      "text/plain": [
       "model.safetensors:   0%|          | 0.00/241M [00:00<?, ?B/s]"
      ]
     },
     "metadata": {},
     "output_type": "display_data"
    },
    {
     "name": "stdout",
     "output_type": "stream",
     "text": [
      "Model parameters: 67,157,026\n"
     ]
    }
   ],
   "source": [
    "model = smp.Unet(\n",
    "        encoder_name=\"resnet152\",\n",
    "        encoder_weights=\"imagenet\",\n",
    "        classes=2,\n",
    "        activation=None,  \n",
    "    )\n",
    "print(f\"Model parameters: {sum(p.numel() for p in model.parameters()):,}\")"
   ]
  },
  {
   "cell_type": "code",
   "execution_count": 7,
   "id": "f4460e89",
   "metadata": {
    "execution": {
     "iopub.execute_input": "2025-09-06T09:04:42.604284Z",
     "iopub.status.busy": "2025-09-06T09:04:42.604054Z",
     "iopub.status.idle": "2025-09-06T09:04:42.616687Z",
     "shell.execute_reply": "2025-09-06T09:04:42.615971Z"
    },
    "papermill": {
     "duration": 0.030858,
     "end_time": "2025-09-06T09:04:42.617700",
     "exception": false,
     "start_time": "2025-09-06T09:04:42.586842",
     "status": "completed"
    },
    "tags": []
   },
   "outputs": [],
   "source": [
    "class DiceLoss(nn.Module):\n",
    "    \"\"\"Dice Loss cho segmentation\"\"\"\n",
    "    def __init__(self, smooth=1):\n",
    "        super(DiceLoss, self).__init__()\n",
    "        self.smooth = smooth\n",
    "    \n",
    "    def forward(self, predictions, targets):\n",
    "        predictions = torch.softmax(predictions, dim=1)\n",
    "        predictions = predictions[:, 1, :, :]  # Chỉ lấy class 1 (tế bào)\n",
    "        targets = targets.float()\n",
    "        \n",
    "        intersection = (predictions * targets).sum()\n",
    "        dice = (2. * intersection + self.smooth) / (predictions.sum() + targets.sum() + self.smooth)\n",
    "        \n",
    "        return 1 - dice\n",
    "\n",
    "class CombinedLoss(nn.Module):\n",
    "    \"\"\"Kết hợp CrossEntropy và Dice Loss\"\"\"\n",
    "    def __init__(self, weight_ce=0.5, weight_dice=0.5):\n",
    "        super(CombinedLoss, self).__init__()\n",
    "        self.weight_ce = weight_ce\n",
    "        self.weight_dice = weight_dice\n",
    "        self.ce_loss = nn.CrossEntropyLoss()\n",
    "        self.dice_loss = DiceLoss()\n",
    "    \n",
    "    def forward(self, predictions, targets):\n",
    "        targets_ce = targets.squeeze(1).long() if targets.dim() == 4 else targets.long()\n",
    "        ce = self.ce_loss(predictions, targets_ce)\n",
    "        \n",
    "        targets_dice = targets.float().squeeze(1) if targets.dim() == 4 else targets.float()\n",
    "        dice = self.dice_loss(predictions, targets_dice)\n",
    "        return self.weight_ce * ce + self.weight_dice * dice\n",
    "\n",
    "def train_model(model, train_loader, val_loader, num_epochs=50, learning_rate=1e-3):\n",
    "    \"\"\"Training function\"\"\"\n",
    "    # Sử dụng DataParallel nếu có nhiều GPU\n",
    "    if torch.cuda.device_count() > 1:\n",
    "        model = nn.DataParallel(model)\n",
    "    model.to(device)\n",
    "    \n",
    "    criterion = CombinedLoss()\n",
    "    optimizer = optim.Adam(model.parameters(), lr=learning_rate)\n",
    "    scheduler = optim.lr_scheduler.ReduceLROnPlateau(optimizer, mode='min', patience=5, factor=0.5)\n",
    "    \n",
    "    train_losses = []\n",
    "    val_losses = []\n",
    "    best_val_loss = float('inf')\n",
    "    \n",
    "    for epoch in range(num_epochs):\n",
    "        # Training\n",
    "        model.train()\n",
    "        train_loss = 0\n",
    "        train_pbar = tqdm(train_loader, desc=f'Epoch {epoch+1}/{num_epochs} - Train')\n",
    "        \n",
    "        for images, masks in train_pbar:\n",
    "            images, masks = images.to(device), masks.to(device)\n",
    "            \n",
    "            optimizer.zero_grad()\n",
    "            outputs = model(images)\n",
    "            masks_ce = masks.squeeze(1).long()\n",
    "            loss = criterion(outputs, masks_ce)\n",
    "            loss.backward()\n",
    "            optimizer.step()\n",
    "            \n",
    "            train_loss += loss.item()\n",
    "            train_pbar.set_postfix({'loss': loss.item()})\n",
    "        \n",
    "        train_loss /= len(train_loader)\n",
    "        train_losses.append(train_loss)\n",
    "        \n",
    "        # Validation\n",
    "        model.eval()\n",
    "        val_loss = 0\n",
    "        val_pbar = tqdm(val_loader, desc=f'Epoch {epoch+1}/{num_epochs} - Val')\n",
    "        \n",
    "        with torch.no_grad():\n",
    "            for images, masks in val_pbar:\n",
    "                images, masks = images.to(device), masks.to(device)\n",
    "                outputs = model(images)\n",
    "                masks_ce = masks.squeeze(1).long()\n",
    "                loss = criterion(outputs, masks_ce)\n",
    "                val_loss += loss.item()\n",
    "                val_pbar.set_postfix({'loss': loss.item()})\n",
    "        \n",
    "        val_loss /= len(val_loader)\n",
    "        val_losses.append(val_loss)\n",
    "        \n",
    "        scheduler.step(val_loss)\n",
    "        \n",
    "        print(f'Epoch {epoch+1}/{num_epochs}:')\n",
    "        print(f'Train Loss: {train_loss:.4f}, Val Loss: {val_loss:.4f}')\n",
    "        \n",
    "        # Save best model\n",
    "        if val_loss < best_val_loss:\n",
    "            best_val_loss = val_loss\n",
    "            torch.save(model.state_dict(), 'best_unet_model.pth')\n",
    "            print(f'Best model saved with val_loss: {val_loss:.4f}')\n",
    "        \n",
    "        print('-' * 50)\n",
    "    \n",
    "    return model, train_losses, val_losses"
   ]
  },
  {
   "cell_type": "code",
   "execution_count": 8,
   "id": "5ab584f5",
   "metadata": {
    "execution": {
     "iopub.execute_input": "2025-09-06T09:04:42.652598Z",
     "iopub.status.busy": "2025-09-06T09:04:42.652386Z",
     "iopub.status.idle": "2025-09-06T09:13:08.791821Z",
     "shell.execute_reply": "2025-09-06T09:13:08.791008Z"
    },
    "papermill": {
     "duration": 506.157827,
     "end_time": "2025-09-06T09:13:08.793028",
     "exception": false,
     "start_time": "2025-09-06T09:04:42.635201",
     "status": "completed"
    },
    "scrolled": true,
    "tags": []
   },
   "outputs": [
    {
     "name": "stdout",
     "output_type": "stream",
     "text": [
      "Training model...\n"
     ]
    },
    {
     "name": "stderr",
     "output_type": "stream",
     "text": [
      "Epoch 1/100 - Train: 100%|██████████| 12/12 [00:05<00:00,  2.10it/s, loss=0.454]\n",
      "Epoch 1/100 - Val: 100%|██████████| 2/2 [00:01<00:00,  1.98it/s, loss=13.7]\n"
     ]
    },
    {
     "name": "stdout",
     "output_type": "stream",
     "text": [
      "Epoch 1/100:\n",
      "Train Loss: 0.5939, Val Loss: 17.0059\n",
      "Best model saved with val_loss: 17.0059\n",
      "--------------------------------------------------\n"
     ]
    },
    {
     "name": "stderr",
     "output_type": "stream",
     "text": [
      "Epoch 2/100 - Train: 100%|██████████| 12/12 [00:04<00:00,  2.79it/s, loss=0.41]\n",
      "Epoch 2/100 - Val: 100%|██████████| 2/2 [00:00<00:00,  3.81it/s, loss=0.335]\n"
     ]
    },
    {
     "name": "stdout",
     "output_type": "stream",
     "text": [
      "Epoch 2/100:\n",
      "Train Loss: 0.4010, Val Loss: 0.3480\n",
      "Best model saved with val_loss: 0.3480\n",
      "--------------------------------------------------\n"
     ]
    },
    {
     "name": "stderr",
     "output_type": "stream",
     "text": [
      "Epoch 3/100 - Train: 100%|██████████| 12/12 [00:04<00:00,  2.86it/s, loss=0.296]\n",
      "Epoch 3/100 - Val: 100%|██████████| 2/2 [00:00<00:00,  3.79it/s, loss=0.316]\n"
     ]
    },
    {
     "name": "stdout",
     "output_type": "stream",
     "text": [
      "Epoch 3/100:\n",
      "Train Loss: 0.3350, Val Loss: 0.3318\n",
      "Best model saved with val_loss: 0.3318\n",
      "--------------------------------------------------\n"
     ]
    },
    {
     "name": "stderr",
     "output_type": "stream",
     "text": [
      "Epoch 4/100 - Train: 100%|██████████| 12/12 [00:04<00:00,  2.76it/s, loss=0.418]\n",
      "Epoch 4/100 - Val: 100%|██████████| 2/2 [00:00<00:00,  3.76it/s, loss=0.303]\n"
     ]
    },
    {
     "name": "stdout",
     "output_type": "stream",
     "text": [
      "Epoch 4/100:\n",
      "Train Loss: 0.3030, Val Loss: 0.2962\n",
      "Best model saved with val_loss: 0.2962\n",
      "--------------------------------------------------\n"
     ]
    },
    {
     "name": "stderr",
     "output_type": "stream",
     "text": [
      "Epoch 5/100 - Train: 100%|██████████| 12/12 [00:04<00:00,  2.64it/s, loss=0.26]\n",
      "Epoch 5/100 - Val: 100%|██████████| 2/2 [00:00<00:00,  3.92it/s, loss=0.267]\n"
     ]
    },
    {
     "name": "stdout",
     "output_type": "stream",
     "text": [
      "Epoch 5/100:\n",
      "Train Loss: 0.2867, Val Loss: 0.2624\n",
      "Best model saved with val_loss: 0.2624\n",
      "--------------------------------------------------\n"
     ]
    },
    {
     "name": "stderr",
     "output_type": "stream",
     "text": [
      "Epoch 6/100 - Train: 100%|██████████| 12/12 [00:04<00:00,  2.84it/s, loss=0.242]\n",
      "Epoch 6/100 - Val: 100%|██████████| 2/2 [00:00<00:00,  3.48it/s, loss=0.264]\n"
     ]
    },
    {
     "name": "stdout",
     "output_type": "stream",
     "text": [
      "Epoch 6/100:\n",
      "Train Loss: 0.2696, Val Loss: 0.2626\n",
      "--------------------------------------------------\n"
     ]
    },
    {
     "name": "stderr",
     "output_type": "stream",
     "text": [
      "Epoch 7/100 - Train: 100%|██████████| 12/12 [00:04<00:00,  2.92it/s, loss=0.275]\n",
      "Epoch 7/100 - Val: 100%|██████████| 2/2 [00:00<00:00,  3.88it/s, loss=0.231]\n"
     ]
    },
    {
     "name": "stdout",
     "output_type": "stream",
     "text": [
      "Epoch 7/100:\n",
      "Train Loss: 0.2659, Val Loss: 0.2470\n",
      "Best model saved with val_loss: 0.2470\n",
      "--------------------------------------------------\n"
     ]
    },
    {
     "name": "stderr",
     "output_type": "stream",
     "text": [
      "Epoch 8/100 - Train: 100%|██████████| 12/12 [00:04<00:00,  2.67it/s, loss=0.286]\n",
      "Epoch 8/100 - Val: 100%|██████████| 2/2 [00:00<00:00,  3.62it/s, loss=0.221]\n"
     ]
    },
    {
     "name": "stdout",
     "output_type": "stream",
     "text": [
      "Epoch 8/100:\n",
      "Train Loss: 0.2714, Val Loss: 0.2130\n",
      "Best model saved with val_loss: 0.2130\n",
      "--------------------------------------------------\n"
     ]
    },
    {
     "name": "stderr",
     "output_type": "stream",
     "text": [
      "Epoch 9/100 - Train: 100%|██████████| 12/12 [00:04<00:00,  2.90it/s, loss=0.2]\n",
      "Epoch 9/100 - Val: 100%|██████████| 2/2 [00:00<00:00,  3.64it/s, loss=0.218]\n"
     ]
    },
    {
     "name": "stdout",
     "output_type": "stream",
     "text": [
      "Epoch 9/100:\n",
      "Train Loss: 0.2487, Val Loss: 0.2453\n",
      "--------------------------------------------------\n"
     ]
    },
    {
     "name": "stderr",
     "output_type": "stream",
     "text": [
      "Epoch 10/100 - Train: 100%|██████████| 12/12 [00:04<00:00,  2.87it/s, loss=0.27]\n",
      "Epoch 10/100 - Val: 100%|██████████| 2/2 [00:00<00:00,  3.71it/s, loss=0.225]\n"
     ]
    },
    {
     "name": "stdout",
     "output_type": "stream",
     "text": [
      "Epoch 10/100:\n",
      "Train Loss: 0.2448, Val Loss: 0.3454\n",
      "--------------------------------------------------\n"
     ]
    },
    {
     "name": "stderr",
     "output_type": "stream",
     "text": [
      "Epoch 11/100 - Train: 100%|██████████| 12/12 [00:04<00:00,  2.70it/s, loss=0.152]\n",
      "Epoch 11/100 - Val: 100%|██████████| 2/2 [00:00<00:00,  3.82it/s, loss=0.242]\n"
     ]
    },
    {
     "name": "stdout",
     "output_type": "stream",
     "text": [
      "Epoch 11/100:\n",
      "Train Loss: 0.2444, Val Loss: 0.3366\n",
      "--------------------------------------------------\n"
     ]
    },
    {
     "name": "stderr",
     "output_type": "stream",
     "text": [
      "Epoch 12/100 - Train: 100%|██████████| 12/12 [00:04<00:00,  2.84it/s, loss=0.213]\n",
      "Epoch 12/100 - Val: 100%|██████████| 2/2 [00:00<00:00,  3.85it/s, loss=0.322]\n"
     ]
    },
    {
     "name": "stdout",
     "output_type": "stream",
     "text": [
      "Epoch 12/100:\n",
      "Train Loss: 0.2344, Val Loss: 0.4579\n",
      "--------------------------------------------------\n"
     ]
    },
    {
     "name": "stderr",
     "output_type": "stream",
     "text": [
      "Epoch 13/100 - Train: 100%|██████████| 12/12 [00:04<00:00,  2.88it/s, loss=0.228]\n",
      "Epoch 13/100 - Val: 100%|██████████| 2/2 [00:00<00:00,  3.68it/s, loss=0.204]\n"
     ]
    },
    {
     "name": "stdout",
     "output_type": "stream",
     "text": [
      "Epoch 13/100:\n",
      "Train Loss: 0.2247, Val Loss: 0.2162\n",
      "--------------------------------------------------\n"
     ]
    },
    {
     "name": "stderr",
     "output_type": "stream",
     "text": [
      "Epoch 14/100 - Train: 100%|██████████| 12/12 [00:04<00:00,  2.86it/s, loss=0.245]\n",
      "Epoch 14/100 - Val: 100%|██████████| 2/2 [00:00<00:00,  2.17it/s, loss=0.211]\n"
     ]
    },
    {
     "name": "stdout",
     "output_type": "stream",
     "text": [
      "Epoch 14/100:\n",
      "Train Loss: 0.2357, Val Loss: 0.2266\n",
      "--------------------------------------------------\n"
     ]
    },
    {
     "name": "stderr",
     "output_type": "stream",
     "text": [
      "Epoch 15/100 - Train: 100%|██████████| 12/12 [00:04<00:00,  2.86it/s, loss=0.294]\n",
      "Epoch 15/100 - Val: 100%|██████████| 2/2 [00:00<00:00,  3.74it/s, loss=0.18]\n"
     ]
    },
    {
     "name": "stdout",
     "output_type": "stream",
     "text": [
      "Epoch 15/100:\n",
      "Train Loss: 0.2322, Val Loss: 0.1935\n",
      "Best model saved with val_loss: 0.1935\n",
      "--------------------------------------------------\n"
     ]
    },
    {
     "name": "stderr",
     "output_type": "stream",
     "text": [
      "Epoch 16/100 - Train: 100%|██████████| 12/12 [00:04<00:00,  2.78it/s, loss=0.159]\n",
      "Epoch 16/100 - Val: 100%|██████████| 2/2 [00:00<00:00,  3.65it/s, loss=0.193]\n"
     ]
    },
    {
     "name": "stdout",
     "output_type": "stream",
     "text": [
      "Epoch 16/100:\n",
      "Train Loss: 0.2083, Val Loss: 0.1941\n",
      "--------------------------------------------------\n"
     ]
    },
    {
     "name": "stderr",
     "output_type": "stream",
     "text": [
      "Epoch 17/100 - Train: 100%|██████████| 12/12 [00:04<00:00,  2.81it/s, loss=0.208]\n",
      "Epoch 17/100 - Val: 100%|██████████| 2/2 [00:00<00:00,  3.81it/s, loss=0.178]\n"
     ]
    },
    {
     "name": "stdout",
     "output_type": "stream",
     "text": [
      "Epoch 17/100:\n",
      "Train Loss: 0.2071, Val Loss: 0.1811\n",
      "Best model saved with val_loss: 0.1811\n",
      "--------------------------------------------------\n"
     ]
    },
    {
     "name": "stderr",
     "output_type": "stream",
     "text": [
      "Epoch 18/100 - Train: 100%|██████████| 12/12 [00:04<00:00,  2.61it/s, loss=0.19]\n",
      "Epoch 18/100 - Val: 100%|██████████| 2/2 [00:00<00:00,  3.71it/s, loss=0.177]\n"
     ]
    },
    {
     "name": "stdout",
     "output_type": "stream",
     "text": [
      "Epoch 18/100:\n",
      "Train Loss: 0.2098, Val Loss: 0.1938\n",
      "--------------------------------------------------\n"
     ]
    },
    {
     "name": "stderr",
     "output_type": "stream",
     "text": [
      "Epoch 19/100 - Train: 100%|██████████| 12/12 [00:04<00:00,  2.80it/s, loss=0.226]\n",
      "Epoch 19/100 - Val: 100%|██████████| 2/2 [00:00<00:00,  3.77it/s, loss=0.196]\n"
     ]
    },
    {
     "name": "stdout",
     "output_type": "stream",
     "text": [
      "Epoch 19/100:\n",
      "Train Loss: 0.2059, Val Loss: 0.2019\n",
      "--------------------------------------------------\n"
     ]
    },
    {
     "name": "stderr",
     "output_type": "stream",
     "text": [
      "Epoch 20/100 - Train: 100%|██████████| 12/12 [00:04<00:00,  2.80it/s, loss=0.208]\n",
      "Epoch 20/100 - Val: 100%|██████████| 2/2 [00:00<00:00,  3.71it/s, loss=0.18]\n"
     ]
    },
    {
     "name": "stdout",
     "output_type": "stream",
     "text": [
      "Epoch 20/100:\n",
      "Train Loss: 0.2101, Val Loss: 0.1875\n",
      "--------------------------------------------------\n"
     ]
    },
    {
     "name": "stderr",
     "output_type": "stream",
     "text": [
      "Epoch 21/100 - Train: 100%|██████████| 12/12 [00:04<00:00,  2.58it/s, loss=0.235]\n",
      "Epoch 21/100 - Val: 100%|██████████| 2/2 [00:00<00:00,  3.80it/s, loss=0.186]\n"
     ]
    },
    {
     "name": "stdout",
     "output_type": "stream",
     "text": [
      "Epoch 21/100:\n",
      "Train Loss: 0.2089, Val Loss: 0.1880\n",
      "--------------------------------------------------\n"
     ]
    },
    {
     "name": "stderr",
     "output_type": "stream",
     "text": [
      "Epoch 22/100 - Train: 100%|██████████| 12/12 [00:04<00:00,  2.81it/s, loss=0.159]\n",
      "Epoch 22/100 - Val: 100%|██████████| 2/2 [00:00<00:00,  3.72it/s, loss=0.19]\n"
     ]
    },
    {
     "name": "stdout",
     "output_type": "stream",
     "text": [
      "Epoch 22/100:\n",
      "Train Loss: 0.2066, Val Loss: 0.2107\n",
      "--------------------------------------------------\n"
     ]
    },
    {
     "name": "stderr",
     "output_type": "stream",
     "text": [
      "Epoch 23/100 - Train: 100%|██████████| 12/12 [00:04<00:00,  2.82it/s, loss=0.244]\n",
      "Epoch 23/100 - Val: 100%|██████████| 2/2 [00:00<00:00,  3.85it/s, loss=0.18]\n"
     ]
    },
    {
     "name": "stdout",
     "output_type": "stream",
     "text": [
      "Epoch 23/100:\n",
      "Train Loss: 0.2038, Val Loss: 0.1865\n",
      "--------------------------------------------------\n"
     ]
    },
    {
     "name": "stderr",
     "output_type": "stream",
     "text": [
      "Epoch 24/100 - Train: 100%|██████████| 12/12 [00:04<00:00,  2.77it/s, loss=0.159]\n",
      "Epoch 24/100 - Val: 100%|██████████| 2/2 [00:00<00:00,  3.84it/s, loss=0.179]\n"
     ]
    },
    {
     "name": "stdout",
     "output_type": "stream",
     "text": [
      "Epoch 24/100:\n",
      "Train Loss: 0.1982, Val Loss: 0.1809\n",
      "Best model saved with val_loss: 0.1809\n",
      "--------------------------------------------------\n"
     ]
    },
    {
     "name": "stderr",
     "output_type": "stream",
     "text": [
      "Epoch 25/100 - Train: 100%|██████████| 12/12 [00:04<00:00,  2.62it/s, loss=0.204]\n",
      "Epoch 25/100 - Val: 100%|██████████| 2/2 [00:00<00:00,  3.70it/s, loss=0.182]\n"
     ]
    },
    {
     "name": "stdout",
     "output_type": "stream",
     "text": [
      "Epoch 25/100:\n",
      "Train Loss: 0.1890, Val Loss: 0.1807\n",
      "Best model saved with val_loss: 0.1807\n",
      "--------------------------------------------------\n"
     ]
    },
    {
     "name": "stderr",
     "output_type": "stream",
     "text": [
      "Epoch 26/100 - Train: 100%|██████████| 12/12 [00:04<00:00,  2.80it/s, loss=0.176]\n",
      "Epoch 26/100 - Val: 100%|██████████| 2/2 [00:00<00:00,  3.80it/s, loss=0.171]\n"
     ]
    },
    {
     "name": "stdout",
     "output_type": "stream",
     "text": [
      "Epoch 26/100:\n",
      "Train Loss: 0.1854, Val Loss: 0.1751\n",
      "Best model saved with val_loss: 0.1751\n",
      "--------------------------------------------------\n"
     ]
    },
    {
     "name": "stderr",
     "output_type": "stream",
     "text": [
      "Epoch 27/100 - Train: 100%|██████████| 12/12 [00:04<00:00,  2.81it/s, loss=0.213]\n",
      "Epoch 27/100 - Val: 100%|██████████| 2/2 [00:00<00:00,  3.66it/s, loss=0.169]\n"
     ]
    },
    {
     "name": "stdout",
     "output_type": "stream",
     "text": [
      "Epoch 27/100:\n",
      "Train Loss: 0.1837, Val Loss: 0.1747\n",
      "Best model saved with val_loss: 0.1747\n",
      "--------------------------------------------------\n"
     ]
    },
    {
     "name": "stderr",
     "output_type": "stream",
     "text": [
      "Epoch 28/100 - Train: 100%|██████████| 12/12 [00:04<00:00,  2.60it/s, loss=0.174]\n",
      "Epoch 28/100 - Val: 100%|██████████| 2/2 [00:00<00:00,  3.79it/s, loss=0.171]\n"
     ]
    },
    {
     "name": "stdout",
     "output_type": "stream",
     "text": [
      "Epoch 28/100:\n",
      "Train Loss: 0.1835, Val Loss: 0.1758\n",
      "--------------------------------------------------\n"
     ]
    },
    {
     "name": "stderr",
     "output_type": "stream",
     "text": [
      "Epoch 29/100 - Train: 100%|██████████| 12/12 [00:04<00:00,  2.80it/s, loss=0.298]\n",
      "Epoch 29/100 - Val: 100%|██████████| 2/2 [00:00<00:00,  3.81it/s, loss=0.174]\n"
     ]
    },
    {
     "name": "stdout",
     "output_type": "stream",
     "text": [
      "Epoch 29/100:\n",
      "Train Loss: 0.1832, Val Loss: 0.1886\n",
      "--------------------------------------------------\n"
     ]
    },
    {
     "name": "stderr",
     "output_type": "stream",
     "text": [
      "Epoch 30/100 - Train: 100%|██████████| 12/12 [00:04<00:00,  2.84it/s, loss=0.155]\n",
      "Epoch 30/100 - Val: 100%|██████████| 2/2 [00:00<00:00,  3.81it/s, loss=0.174]\n"
     ]
    },
    {
     "name": "stdout",
     "output_type": "stream",
     "text": [
      "Epoch 30/100:\n",
      "Train Loss: 0.1804, Val Loss: 0.1809\n",
      "--------------------------------------------------\n"
     ]
    },
    {
     "name": "stderr",
     "output_type": "stream",
     "text": [
      "Epoch 31/100 - Train: 100%|██████████| 12/12 [00:04<00:00,  2.58it/s, loss=0.148]\n",
      "Epoch 31/100 - Val: 100%|██████████| 2/2 [00:00<00:00,  3.90it/s, loss=0.16]\n"
     ]
    },
    {
     "name": "stdout",
     "output_type": "stream",
     "text": [
      "Epoch 31/100:\n",
      "Train Loss: 0.1707, Val Loss: 0.1688\n",
      "Best model saved with val_loss: 0.1688\n",
      "--------------------------------------------------\n"
     ]
    },
    {
     "name": "stderr",
     "output_type": "stream",
     "text": [
      "Epoch 32/100 - Train: 100%|██████████| 12/12 [00:04<00:00,  2.85it/s, loss=0.141]\n",
      "Epoch 32/100 - Val: 100%|██████████| 2/2 [00:00<00:00,  3.65it/s, loss=0.161]\n"
     ]
    },
    {
     "name": "stdout",
     "output_type": "stream",
     "text": [
      "Epoch 32/100:\n",
      "Train Loss: 0.1789, Val Loss: 0.1658\n",
      "Best model saved with val_loss: 0.1658\n",
      "--------------------------------------------------\n"
     ]
    },
    {
     "name": "stderr",
     "output_type": "stream",
     "text": [
      "Epoch 33/100 - Train: 100%|██████████| 12/12 [00:04<00:00,  2.78it/s, loss=0.156]\n",
      "Epoch 33/100 - Val: 100%|██████████| 2/2 [00:00<00:00,  3.72it/s, loss=0.161]\n"
     ]
    },
    {
     "name": "stdout",
     "output_type": "stream",
     "text": [
      "Epoch 33/100:\n",
      "Train Loss: 0.1727, Val Loss: 0.1670\n",
      "--------------------------------------------------\n"
     ]
    },
    {
     "name": "stderr",
     "output_type": "stream",
     "text": [
      "Epoch 34/100 - Train: 100%|██████████| 12/12 [00:04<00:00,  2.80it/s, loss=0.214]\n",
      "Epoch 34/100 - Val: 100%|██████████| 2/2 [00:00<00:00,  2.11it/s, loss=0.175]\n"
     ]
    },
    {
     "name": "stdout",
     "output_type": "stream",
     "text": [
      "Epoch 34/100:\n",
      "Train Loss: 0.1721, Val Loss: 0.1747\n",
      "--------------------------------------------------\n"
     ]
    },
    {
     "name": "stderr",
     "output_type": "stream",
     "text": [
      "Epoch 35/100 - Train: 100%|██████████| 12/12 [00:04<00:00,  2.81it/s, loss=0.215]\n",
      "Epoch 35/100 - Val: 100%|██████████| 2/2 [00:00<00:00,  3.89it/s, loss=0.17]\n"
     ]
    },
    {
     "name": "stdout",
     "output_type": "stream",
     "text": [
      "Epoch 35/100:\n",
      "Train Loss: 0.1772, Val Loss: 0.1883\n",
      "--------------------------------------------------\n"
     ]
    },
    {
     "name": "stderr",
     "output_type": "stream",
     "text": [
      "Epoch 36/100 - Train: 100%|██████████| 12/12 [00:04<00:00,  2.85it/s, loss=0.179]\n",
      "Epoch 36/100 - Val: 100%|██████████| 2/2 [00:00<00:00,  3.86it/s, loss=0.162]\n"
     ]
    },
    {
     "name": "stdout",
     "output_type": "stream",
     "text": [
      "Epoch 36/100:\n",
      "Train Loss: 0.1770, Val Loss: 0.1668\n",
      "--------------------------------------------------\n"
     ]
    },
    {
     "name": "stderr",
     "output_type": "stream",
     "text": [
      "Epoch 37/100 - Train: 100%|██████████| 12/12 [00:04<00:00,  2.80it/s, loss=0.211]\n",
      "Epoch 37/100 - Val: 100%|██████████| 2/2 [00:00<00:00,  3.60it/s, loss=0.17]\n"
     ]
    },
    {
     "name": "stdout",
     "output_type": "stream",
     "text": [
      "Epoch 37/100:\n",
      "Train Loss: 0.1714, Val Loss: 0.1712\n",
      "--------------------------------------------------\n"
     ]
    },
    {
     "name": "stderr",
     "output_type": "stream",
     "text": [
      "Epoch 38/100 - Train: 100%|██████████| 12/12 [00:04<00:00,  2.59it/s, loss=0.141]\n",
      "Epoch 38/100 - Val: 100%|██████████| 2/2 [00:00<00:00,  3.71it/s, loss=0.163]\n"
     ]
    },
    {
     "name": "stdout",
     "output_type": "stream",
     "text": [
      "Epoch 38/100:\n",
      "Train Loss: 0.1694, Val Loss: 0.1723\n",
      "--------------------------------------------------\n"
     ]
    },
    {
     "name": "stderr",
     "output_type": "stream",
     "text": [
      "Epoch 39/100 - Train: 100%|██████████| 12/12 [00:04<00:00,  2.79it/s, loss=0.18]\n",
      "Epoch 39/100 - Val: 100%|██████████| 2/2 [00:00<00:00,  3.84it/s, loss=0.162]\n"
     ]
    },
    {
     "name": "stdout",
     "output_type": "stream",
     "text": [
      "Epoch 39/100:\n",
      "Train Loss: 0.1709, Val Loss: 0.1675\n",
      "--------------------------------------------------\n"
     ]
    },
    {
     "name": "stderr",
     "output_type": "stream",
     "text": [
      "Epoch 40/100 - Train: 100%|██████████| 12/12 [00:04<00:00,  2.80it/s, loss=0.116]\n",
      "Epoch 40/100 - Val: 100%|██████████| 2/2 [00:00<00:00,  3.65it/s, loss=0.167]\n"
     ]
    },
    {
     "name": "stdout",
     "output_type": "stream",
     "text": [
      "Epoch 40/100:\n",
      "Train Loss: 0.1678, Val Loss: 0.1741\n",
      "--------------------------------------------------\n"
     ]
    },
    {
     "name": "stderr",
     "output_type": "stream",
     "text": [
      "Epoch 41/100 - Train: 100%|██████████| 12/12 [00:04<00:00,  2.57it/s, loss=0.181]\n",
      "Epoch 41/100 - Val: 100%|██████████| 2/2 [00:00<00:00,  3.72it/s, loss=0.159]\n"
     ]
    },
    {
     "name": "stdout",
     "output_type": "stream",
     "text": [
      "Epoch 41/100:\n",
      "Train Loss: 0.1643, Val Loss: 0.1659\n",
      "--------------------------------------------------\n"
     ]
    },
    {
     "name": "stderr",
     "output_type": "stream",
     "text": [
      "Epoch 42/100 - Train: 100%|██████████| 12/12 [00:04<00:00,  2.84it/s, loss=0.187]\n",
      "Epoch 42/100 - Val: 100%|██████████| 2/2 [00:00<00:00,  3.73it/s, loss=0.158]\n"
     ]
    },
    {
     "name": "stdout",
     "output_type": "stream",
     "text": [
      "Epoch 42/100:\n",
      "Train Loss: 0.1700, Val Loss: 0.1629\n",
      "Best model saved with val_loss: 0.1629\n",
      "--------------------------------------------------\n"
     ]
    },
    {
     "name": "stderr",
     "output_type": "stream",
     "text": [
      "Epoch 43/100 - Train: 100%|██████████| 12/12 [00:04<00:00,  2.80it/s, loss=0.193]\n",
      "Epoch 43/100 - Val: 100%|██████████| 2/2 [00:00<00:00,  3.52it/s, loss=0.166]\n"
     ]
    },
    {
     "name": "stdout",
     "output_type": "stream",
     "text": [
      "Epoch 43/100:\n",
      "Train Loss: 0.1637, Val Loss: 0.1657\n",
      "--------------------------------------------------\n"
     ]
    },
    {
     "name": "stderr",
     "output_type": "stream",
     "text": [
      "Epoch 44/100 - Train: 100%|██████████| 12/12 [00:04<00:00,  2.82it/s, loss=0.192]\n",
      "Epoch 44/100 - Val: 100%|██████████| 2/2 [00:00<00:00,  3.67it/s, loss=0.168]\n"
     ]
    },
    {
     "name": "stdout",
     "output_type": "stream",
     "text": [
      "Epoch 44/100:\n",
      "Train Loss: 0.1627, Val Loss: 0.1724\n",
      "--------------------------------------------------\n"
     ]
    },
    {
     "name": "stderr",
     "output_type": "stream",
     "text": [
      "Epoch 45/100 - Train: 100%|██████████| 12/12 [00:04<00:00,  2.57it/s, loss=0.134]\n",
      "Epoch 45/100 - Val: 100%|██████████| 2/2 [00:00<00:00,  3.76it/s, loss=0.163]\n"
     ]
    },
    {
     "name": "stdout",
     "output_type": "stream",
     "text": [
      "Epoch 45/100:\n",
      "Train Loss: 0.1646, Val Loss: 0.1717\n",
      "--------------------------------------------------\n"
     ]
    },
    {
     "name": "stderr",
     "output_type": "stream",
     "text": [
      "Epoch 46/100 - Train: 100%|██████████| 12/12 [00:04<00:00,  2.85it/s, loss=0.125]\n",
      "Epoch 46/100 - Val: 100%|██████████| 2/2 [00:00<00:00,  3.73it/s, loss=0.161]\n"
     ]
    },
    {
     "name": "stdout",
     "output_type": "stream",
     "text": [
      "Epoch 46/100:\n",
      "Train Loss: 0.1585, Val Loss: 0.1673\n",
      "--------------------------------------------------\n"
     ]
    },
    {
     "name": "stderr",
     "output_type": "stream",
     "text": [
      "Epoch 47/100 - Train: 100%|██████████| 12/12 [00:04<00:00,  2.81it/s, loss=0.197]\n",
      "Epoch 47/100 - Val: 100%|██████████| 2/2 [00:00<00:00,  3.78it/s, loss=0.16]\n"
     ]
    },
    {
     "name": "stdout",
     "output_type": "stream",
     "text": [
      "Epoch 47/100:\n",
      "Train Loss: 0.1581, Val Loss: 0.1646\n",
      "--------------------------------------------------\n"
     ]
    },
    {
     "name": "stderr",
     "output_type": "stream",
     "text": [
      "Epoch 48/100 - Train: 100%|██████████| 12/12 [00:04<00:00,  2.62it/s, loss=0.113]\n",
      "Epoch 48/100 - Val: 100%|██████████| 2/2 [00:00<00:00,  3.73it/s, loss=0.16]\n"
     ]
    },
    {
     "name": "stdout",
     "output_type": "stream",
     "text": [
      "Epoch 48/100:\n",
      "Train Loss: 0.1534, Val Loss: 0.1667\n",
      "--------------------------------------------------\n"
     ]
    },
    {
     "name": "stderr",
     "output_type": "stream",
     "text": [
      "Epoch 49/100 - Train: 100%|██████████| 12/12 [00:04<00:00,  2.81it/s, loss=0.179]\n",
      "Epoch 49/100 - Val: 100%|██████████| 2/2 [00:00<00:00,  3.86it/s, loss=0.16]\n"
     ]
    },
    {
     "name": "stdout",
     "output_type": "stream",
     "text": [
      "Epoch 49/100:\n",
      "Train Loss: 0.1592, Val Loss: 0.1709\n",
      "--------------------------------------------------\n"
     ]
    },
    {
     "name": "stderr",
     "output_type": "stream",
     "text": [
      "Epoch 50/100 - Train: 100%|██████████| 12/12 [00:04<00:00,  2.86it/s, loss=0.186]\n",
      "Epoch 50/100 - Val: 100%|██████████| 2/2 [00:00<00:00,  3.84it/s, loss=0.16]\n"
     ]
    },
    {
     "name": "stdout",
     "output_type": "stream",
     "text": [
      "Epoch 50/100:\n",
      "Train Loss: 0.1574, Val Loss: 0.1665\n",
      "--------------------------------------------------\n"
     ]
    },
    {
     "name": "stderr",
     "output_type": "stream",
     "text": [
      "Epoch 51/100 - Train: 100%|██████████| 12/12 [00:04<00:00,  2.79it/s, loss=0.143]\n",
      "Epoch 51/100 - Val: 100%|██████████| 2/2 [00:00<00:00,  3.67it/s, loss=0.162]\n"
     ]
    },
    {
     "name": "stdout",
     "output_type": "stream",
     "text": [
      "Epoch 51/100:\n",
      "Train Loss: 0.1573, Val Loss: 0.1630\n",
      "--------------------------------------------------\n"
     ]
    },
    {
     "name": "stderr",
     "output_type": "stream",
     "text": [
      "Epoch 52/100 - Train: 100%|██████████| 12/12 [00:04<00:00,  2.61it/s, loss=0.135]\n",
      "Epoch 52/100 - Val: 100%|██████████| 2/2 [00:00<00:00,  3.71it/s, loss=0.16]\n"
     ]
    },
    {
     "name": "stdout",
     "output_type": "stream",
     "text": [
      "Epoch 52/100:\n",
      "Train Loss: 0.1529, Val Loss: 0.1662\n",
      "--------------------------------------------------\n"
     ]
    },
    {
     "name": "stderr",
     "output_type": "stream",
     "text": [
      "Epoch 53/100 - Train: 100%|██████████| 12/12 [00:04<00:00,  2.82it/s, loss=0.182]\n",
      "Epoch 53/100 - Val: 100%|██████████| 2/2 [00:00<00:00,  3.85it/s, loss=0.16]\n"
     ]
    },
    {
     "name": "stdout",
     "output_type": "stream",
     "text": [
      "Epoch 53/100:\n",
      "Train Loss: 0.1576, Val Loss: 0.1668\n",
      "--------------------------------------------------\n"
     ]
    },
    {
     "name": "stderr",
     "output_type": "stream",
     "text": [
      "Epoch 54/100 - Train: 100%|██████████| 12/12 [00:04<00:00,  2.84it/s, loss=0.13]\n",
      "Epoch 54/100 - Val: 100%|██████████| 2/2 [00:00<00:00,  3.79it/s, loss=0.162]\n"
     ]
    },
    {
     "name": "stdout",
     "output_type": "stream",
     "text": [
      "Epoch 54/100:\n",
      "Train Loss: 0.1501, Val Loss: 0.1660\n",
      "--------------------------------------------------\n"
     ]
    },
    {
     "name": "stderr",
     "output_type": "stream",
     "text": [
      "Epoch 55/100 - Train: 100%|██████████| 12/12 [00:04<00:00,  2.67it/s, loss=0.13]\n",
      "Epoch 55/100 - Val: 100%|██████████| 2/2 [00:00<00:00,  3.68it/s, loss=0.163]\n"
     ]
    },
    {
     "name": "stdout",
     "output_type": "stream",
     "text": [
      "Epoch 55/100:\n",
      "Train Loss: 0.1546, Val Loss: 0.1657\n",
      "--------------------------------------------------\n"
     ]
    },
    {
     "name": "stderr",
     "output_type": "stream",
     "text": [
      "Epoch 56/100 - Train: 100%|██████████| 12/12 [00:04<00:00,  2.86it/s, loss=0.174]\n",
      "Epoch 56/100 - Val: 100%|██████████| 2/2 [00:00<00:00,  3.67it/s, loss=0.159]\n"
     ]
    },
    {
     "name": "stdout",
     "output_type": "stream",
     "text": [
      "Epoch 56/100:\n",
      "Train Loss: 0.1549, Val Loss: 0.1619\n",
      "Best model saved with val_loss: 0.1619\n",
      "--------------------------------------------------\n"
     ]
    },
    {
     "name": "stderr",
     "output_type": "stream",
     "text": [
      "Epoch 57/100 - Train: 100%|██████████| 12/12 [00:04<00:00,  2.83it/s, loss=0.168]\n",
      "Epoch 57/100 - Val: 100%|██████████| 2/2 [00:00<00:00,  3.76it/s, loss=0.159]\n"
     ]
    },
    {
     "name": "stdout",
     "output_type": "stream",
     "text": [
      "Epoch 57/100:\n",
      "Train Loss: 0.1538, Val Loss: 0.1636\n",
      "--------------------------------------------------\n"
     ]
    },
    {
     "name": "stderr",
     "output_type": "stream",
     "text": [
      "Epoch 58/100 - Train: 100%|██████████| 12/12 [00:04<00:00,  2.61it/s, loss=0.132]\n",
      "Epoch 58/100 - Val: 100%|██████████| 2/2 [00:00<00:00,  3.82it/s, loss=0.159]\n"
     ]
    },
    {
     "name": "stdout",
     "output_type": "stream",
     "text": [
      "Epoch 58/100:\n",
      "Train Loss: 0.1554, Val Loss: 0.1644\n",
      "--------------------------------------------------\n"
     ]
    },
    {
     "name": "stderr",
     "output_type": "stream",
     "text": [
      "Epoch 59/100 - Train: 100%|██████████| 12/12 [00:04<00:00,  2.80it/s, loss=0.18]\n",
      "Epoch 59/100 - Val: 100%|██████████| 2/2 [00:00<00:00,  3.88it/s, loss=0.16]\n"
     ]
    },
    {
     "name": "stdout",
     "output_type": "stream",
     "text": [
      "Epoch 59/100:\n",
      "Train Loss: 0.1514, Val Loss: 0.1651\n",
      "--------------------------------------------------\n"
     ]
    },
    {
     "name": "stderr",
     "output_type": "stream",
     "text": [
      "Epoch 60/100 - Train: 100%|██████████| 12/12 [00:04<00:00,  2.84it/s, loss=0.15]\n",
      "Epoch 60/100 - Val: 100%|██████████| 2/2 [00:00<00:00,  3.67it/s, loss=0.158]\n"
     ]
    },
    {
     "name": "stdout",
     "output_type": "stream",
     "text": [
      "Epoch 60/100:\n",
      "Train Loss: 0.1555, Val Loss: 0.1631\n",
      "--------------------------------------------------\n"
     ]
    },
    {
     "name": "stderr",
     "output_type": "stream",
     "text": [
      "Epoch 61/100 - Train: 100%|██████████| 12/12 [00:04<00:00,  2.86it/s, loss=0.145]\n",
      "Epoch 61/100 - Val: 100%|██████████| 2/2 [00:00<00:00,  3.81it/s, loss=0.158]\n"
     ]
    },
    {
     "name": "stdout",
     "output_type": "stream",
     "text": [
      "Epoch 61/100:\n",
      "Train Loss: 0.1526, Val Loss: 0.1623\n",
      "--------------------------------------------------\n"
     ]
    },
    {
     "name": "stderr",
     "output_type": "stream",
     "text": [
      "Epoch 62/100 - Train: 100%|██████████| 12/12 [00:04<00:00,  2.63it/s, loss=0.157]\n",
      "Epoch 62/100 - Val: 100%|██████████| 2/2 [00:00<00:00,  3.76it/s, loss=0.158]\n"
     ]
    },
    {
     "name": "stdout",
     "output_type": "stream",
     "text": [
      "Epoch 62/100:\n",
      "Train Loss: 0.1539, Val Loss: 0.1614\n",
      "Best model saved with val_loss: 0.1614\n",
      "--------------------------------------------------\n"
     ]
    },
    {
     "name": "stderr",
     "output_type": "stream",
     "text": [
      "Epoch 63/100 - Train: 100%|██████████| 12/12 [00:04<00:00,  2.81it/s, loss=0.149]\n",
      "Epoch 63/100 - Val: 100%|██████████| 2/2 [00:00<00:00,  3.68it/s, loss=0.157]\n"
     ]
    },
    {
     "name": "stdout",
     "output_type": "stream",
     "text": [
      "Epoch 63/100:\n",
      "Train Loss: 0.1509, Val Loss: 0.1619\n",
      "--------------------------------------------------\n"
     ]
    },
    {
     "name": "stderr",
     "output_type": "stream",
     "text": [
      "Epoch 64/100 - Train: 100%|██████████| 12/12 [00:04<00:00,  2.80it/s, loss=0.0942]\n",
      "Epoch 64/100 - Val: 100%|██████████| 2/2 [00:00<00:00,  3.89it/s, loss=0.157]\n"
     ]
    },
    {
     "name": "stdout",
     "output_type": "stream",
     "text": [
      "Epoch 64/100:\n",
      "Train Loss: 0.1505, Val Loss: 0.1619\n",
      "--------------------------------------------------\n"
     ]
    },
    {
     "name": "stderr",
     "output_type": "stream",
     "text": [
      "Epoch 65/100 - Train: 100%|██████████| 12/12 [00:04<00:00,  2.63it/s, loss=0.117]\n",
      "Epoch 65/100 - Val: 100%|██████████| 2/2 [00:00<00:00,  3.85it/s, loss=0.157]\n"
     ]
    },
    {
     "name": "stdout",
     "output_type": "stream",
     "text": [
      "Epoch 65/100:\n",
      "Train Loss: 0.1505, Val Loss: 0.1604\n",
      "Best model saved with val_loss: 0.1604\n",
      "--------------------------------------------------\n"
     ]
    },
    {
     "name": "stderr",
     "output_type": "stream",
     "text": [
      "Epoch 66/100 - Train: 100%|██████████| 12/12 [00:04<00:00,  2.82it/s, loss=0.134]\n",
      "Epoch 66/100 - Val: 100%|██████████| 2/2 [00:00<00:00,  3.79it/s, loss=0.16]\n"
     ]
    },
    {
     "name": "stdout",
     "output_type": "stream",
     "text": [
      "Epoch 66/100:\n",
      "Train Loss: 0.1510, Val Loss: 0.1617\n",
      "--------------------------------------------------\n"
     ]
    },
    {
     "name": "stderr",
     "output_type": "stream",
     "text": [
      "Epoch 67/100 - Train: 100%|██████████| 12/12 [00:04<00:00,  2.80it/s, loss=0.123]\n",
      "Epoch 67/100 - Val: 100%|██████████| 2/2 [00:00<00:00,  3.79it/s, loss=0.161]\n"
     ]
    },
    {
     "name": "stdout",
     "output_type": "stream",
     "text": [
      "Epoch 67/100:\n",
      "Train Loss: 0.1503, Val Loss: 0.1643\n",
      "--------------------------------------------------\n"
     ]
    },
    {
     "name": "stderr",
     "output_type": "stream",
     "text": [
      "Epoch 68/100 - Train: 100%|██████████| 12/12 [00:04<00:00,  2.63it/s, loss=0.0895]\n",
      "Epoch 68/100 - Val: 100%|██████████| 2/2 [00:00<00:00,  3.72it/s, loss=0.164]\n"
     ]
    },
    {
     "name": "stdout",
     "output_type": "stream",
     "text": [
      "Epoch 68/100:\n",
      "Train Loss: 0.1489, Val Loss: 0.1665\n",
      "--------------------------------------------------\n"
     ]
    },
    {
     "name": "stderr",
     "output_type": "stream",
     "text": [
      "Epoch 69/100 - Train: 100%|██████████| 12/12 [00:04<00:00,  2.80it/s, loss=0.202]\n",
      "Epoch 69/100 - Val: 100%|██████████| 2/2 [00:00<00:00,  3.87it/s, loss=0.162]\n"
     ]
    },
    {
     "name": "stdout",
     "output_type": "stream",
     "text": [
      "Epoch 69/100:\n",
      "Train Loss: 0.1536, Val Loss: 0.1632\n",
      "--------------------------------------------------\n"
     ]
    },
    {
     "name": "stderr",
     "output_type": "stream",
     "text": [
      "Epoch 70/100 - Train: 100%|██████████| 12/12 [00:04<00:00,  2.84it/s, loss=0.117]\n",
      "Epoch 70/100 - Val: 100%|██████████| 2/2 [00:00<00:00,  3.71it/s, loss=0.16]\n"
     ]
    },
    {
     "name": "stdout",
     "output_type": "stream",
     "text": [
      "Epoch 70/100:\n",
      "Train Loss: 0.1507, Val Loss: 0.1632\n",
      "--------------------------------------------------\n"
     ]
    },
    {
     "name": "stderr",
     "output_type": "stream",
     "text": [
      "Epoch 71/100 - Train: 100%|██████████| 12/12 [00:04<00:00,  2.54it/s, loss=0.108]\n",
      "Epoch 71/100 - Val: 100%|██████████| 2/2 [00:00<00:00,  3.85it/s, loss=0.16]\n"
     ]
    },
    {
     "name": "stdout",
     "output_type": "stream",
     "text": [
      "Epoch 71/100:\n",
      "Train Loss: 0.1463, Val Loss: 0.1633\n",
      "--------------------------------------------------\n"
     ]
    },
    {
     "name": "stderr",
     "output_type": "stream",
     "text": [
      "Epoch 72/100 - Train: 100%|██████████| 12/12 [00:04<00:00,  2.82it/s, loss=0.152]\n",
      "Epoch 72/100 - Val: 100%|██████████| 2/2 [00:00<00:00,  3.83it/s, loss=0.16]\n"
     ]
    },
    {
     "name": "stdout",
     "output_type": "stream",
     "text": [
      "Epoch 72/100:\n",
      "Train Loss: 0.1509, Val Loss: 0.1647\n",
      "--------------------------------------------------\n"
     ]
    },
    {
     "name": "stderr",
     "output_type": "stream",
     "text": [
      "Epoch 73/100 - Train: 100%|██████████| 12/12 [00:04<00:00,  2.81it/s, loss=0.158]\n",
      "Epoch 73/100 - Val: 100%|██████████| 2/2 [00:00<00:00,  3.66it/s, loss=0.161]\n"
     ]
    },
    {
     "name": "stdout",
     "output_type": "stream",
     "text": [
      "Epoch 73/100:\n",
      "Train Loss: 0.1480, Val Loss: 0.1641\n",
      "--------------------------------------------------\n"
     ]
    },
    {
     "name": "stderr",
     "output_type": "stream",
     "text": [
      "Epoch 74/100 - Train: 100%|██████████| 12/12 [00:04<00:00,  2.86it/s, loss=0.192]\n",
      "Epoch 74/100 - Val: 100%|██████████| 2/2 [00:00<00:00,  3.89it/s, loss=0.161]\n"
     ]
    },
    {
     "name": "stdout",
     "output_type": "stream",
     "text": [
      "Epoch 74/100:\n",
      "Train Loss: 0.1545, Val Loss: 0.1633\n",
      "--------------------------------------------------\n"
     ]
    },
    {
     "name": "stderr",
     "output_type": "stream",
     "text": [
      "Epoch 75/100 - Train: 100%|██████████| 12/12 [00:04<00:00,  2.60it/s, loss=0.188]\n",
      "Epoch 75/100 - Val: 100%|██████████| 2/2 [00:00<00:00,  3.91it/s, loss=0.159]\n"
     ]
    },
    {
     "name": "stdout",
     "output_type": "stream",
     "text": [
      "Epoch 75/100:\n",
      "Train Loss: 0.1509, Val Loss: 0.1614\n",
      "--------------------------------------------------\n"
     ]
    },
    {
     "name": "stderr",
     "output_type": "stream",
     "text": [
      "Epoch 76/100 - Train: 100%|██████████| 12/12 [00:04<00:00,  2.84it/s, loss=0.129]\n",
      "Epoch 76/100 - Val: 100%|██████████| 2/2 [00:00<00:00,  3.82it/s, loss=0.159]\n"
     ]
    },
    {
     "name": "stdout",
     "output_type": "stream",
     "text": [
      "Epoch 76/100:\n",
      "Train Loss: 0.1514, Val Loss: 0.1614\n",
      "--------------------------------------------------\n"
     ]
    },
    {
     "name": "stderr",
     "output_type": "stream",
     "text": [
      "Epoch 77/100 - Train: 100%|██████████| 12/12 [00:04<00:00,  2.80it/s, loss=0.179]\n",
      "Epoch 77/100 - Val: 100%|██████████| 2/2 [00:00<00:00,  3.73it/s, loss=0.16]\n"
     ]
    },
    {
     "name": "stdout",
     "output_type": "stream",
     "text": [
      "Epoch 77/100:\n",
      "Train Loss: 0.1492, Val Loss: 0.1628\n",
      "--------------------------------------------------\n"
     ]
    },
    {
     "name": "stderr",
     "output_type": "stream",
     "text": [
      "Epoch 78/100 - Train: 100%|██████████| 12/12 [00:04<00:00,  2.60it/s, loss=0.159]\n",
      "Epoch 78/100 - Val: 100%|██████████| 2/2 [00:00<00:00,  3.79it/s, loss=0.161]\n"
     ]
    },
    {
     "name": "stdout",
     "output_type": "stream",
     "text": [
      "Epoch 78/100:\n",
      "Train Loss: 0.1500, Val Loss: 0.1644\n",
      "--------------------------------------------------\n"
     ]
    },
    {
     "name": "stderr",
     "output_type": "stream",
     "text": [
      "Epoch 79/100 - Train: 100%|██████████| 12/12 [00:04<00:00,  2.80it/s, loss=0.207]\n",
      "Epoch 79/100 - Val: 100%|██████████| 2/2 [00:00<00:00,  3.91it/s, loss=0.162]\n"
     ]
    },
    {
     "name": "stdout",
     "output_type": "stream",
     "text": [
      "Epoch 79/100:\n",
      "Train Loss: 0.1501, Val Loss: 0.1651\n",
      "--------------------------------------------------\n"
     ]
    },
    {
     "name": "stderr",
     "output_type": "stream",
     "text": [
      "Epoch 80/100 - Train: 100%|██████████| 12/12 [00:04<00:00,  2.83it/s, loss=0.18]\n",
      "Epoch 80/100 - Val: 100%|██████████| 2/2 [00:00<00:00,  3.85it/s, loss=0.16]\n"
     ]
    },
    {
     "name": "stdout",
     "output_type": "stream",
     "text": [
      "Epoch 80/100:\n",
      "Train Loss: 0.1494, Val Loss: 0.1630\n",
      "--------------------------------------------------\n"
     ]
    },
    {
     "name": "stderr",
     "output_type": "stream",
     "text": [
      "Epoch 81/100 - Train: 100%|██████████| 12/12 [00:04<00:00,  2.81it/s, loss=0.17]\n",
      "Epoch 81/100 - Val: 100%|██████████| 2/2 [00:00<00:00,  3.60it/s, loss=0.16]\n"
     ]
    },
    {
     "name": "stdout",
     "output_type": "stream",
     "text": [
      "Epoch 81/100:\n",
      "Train Loss: 0.1506, Val Loss: 0.1630\n",
      "--------------------------------------------------\n"
     ]
    },
    {
     "name": "stderr",
     "output_type": "stream",
     "text": [
      "Epoch 82/100 - Train: 100%|██████████| 12/12 [00:04<00:00,  2.59it/s, loss=0.119]\n",
      "Epoch 82/100 - Val: 100%|██████████| 2/2 [00:00<00:00,  3.77it/s, loss=0.161]\n"
     ]
    },
    {
     "name": "stdout",
     "output_type": "stream",
     "text": [
      "Epoch 82/100:\n",
      "Train Loss: 0.1496, Val Loss: 0.1625\n",
      "--------------------------------------------------\n"
     ]
    },
    {
     "name": "stderr",
     "output_type": "stream",
     "text": [
      "Epoch 83/100 - Train: 100%|██████████| 12/12 [00:04<00:00,  2.83it/s, loss=0.177]\n",
      "Epoch 83/100 - Val: 100%|██████████| 2/2 [00:00<00:00,  3.71it/s, loss=0.158]\n"
     ]
    },
    {
     "name": "stdout",
     "output_type": "stream",
     "text": [
      "Epoch 83/100:\n",
      "Train Loss: 0.1506, Val Loss: 0.1608\n",
      "--------------------------------------------------\n"
     ]
    },
    {
     "name": "stderr",
     "output_type": "stream",
     "text": [
      "Epoch 84/100 - Train: 100%|██████████| 12/12 [00:04<00:00,  2.82it/s, loss=0.205]\n",
      "Epoch 84/100 - Val: 100%|██████████| 2/2 [00:00<00:00,  3.91it/s, loss=0.159]\n"
     ]
    },
    {
     "name": "stdout",
     "output_type": "stream",
     "text": [
      "Epoch 84/100:\n",
      "Train Loss: 0.1478, Val Loss: 0.1621\n",
      "--------------------------------------------------\n"
     ]
    },
    {
     "name": "stderr",
     "output_type": "stream",
     "text": [
      "Epoch 85/100 - Train: 100%|██████████| 12/12 [00:04<00:00,  2.64it/s, loss=0.103]\n",
      "Epoch 85/100 - Val: 100%|██████████| 2/2 [00:00<00:00,  3.50it/s, loss=0.16]\n"
     ]
    },
    {
     "name": "stdout",
     "output_type": "stream",
     "text": [
      "Epoch 85/100:\n",
      "Train Loss: 0.1467, Val Loss: 0.1626\n",
      "--------------------------------------------------\n"
     ]
    },
    {
     "name": "stderr",
     "output_type": "stream",
     "text": [
      "Epoch 86/100 - Train: 100%|██████████| 12/12 [00:04<00:00,  2.81it/s, loss=0.117]\n",
      "Epoch 86/100 - Val: 100%|██████████| 2/2 [00:00<00:00,  3.58it/s, loss=0.159]\n"
     ]
    },
    {
     "name": "stdout",
     "output_type": "stream",
     "text": [
      "Epoch 86/100:\n",
      "Train Loss: 0.1489, Val Loss: 0.1633\n",
      "--------------------------------------------------\n"
     ]
    },
    {
     "name": "stderr",
     "output_type": "stream",
     "text": [
      "Epoch 87/100 - Train: 100%|██████████| 12/12 [00:04<00:00,  2.82it/s, loss=0.17]\n",
      "Epoch 87/100 - Val: 100%|██████████| 2/2 [00:00<00:00,  3.43it/s, loss=0.158]\n"
     ]
    },
    {
     "name": "stdout",
     "output_type": "stream",
     "text": [
      "Epoch 87/100:\n",
      "Train Loss: 0.1461, Val Loss: 0.1616\n",
      "--------------------------------------------------\n"
     ]
    },
    {
     "name": "stderr",
     "output_type": "stream",
     "text": [
      "Epoch 88/100 - Train: 100%|██████████| 12/12 [00:04<00:00,  2.60it/s, loss=0.0796]\n",
      "Epoch 88/100 - Val: 100%|██████████| 2/2 [00:00<00:00,  3.76it/s, loss=0.158]\n"
     ]
    },
    {
     "name": "stdout",
     "output_type": "stream",
     "text": [
      "Epoch 88/100:\n",
      "Train Loss: 0.1464, Val Loss: 0.1616\n",
      "--------------------------------------------------\n"
     ]
    },
    {
     "name": "stderr",
     "output_type": "stream",
     "text": [
      "Epoch 89/100 - Train: 100%|██████████| 12/12 [00:04<00:00,  2.81it/s, loss=0.12]\n",
      "Epoch 89/100 - Val: 100%|██████████| 2/2 [00:00<00:00,  3.67it/s, loss=0.158]\n"
     ]
    },
    {
     "name": "stdout",
     "output_type": "stream",
     "text": [
      "Epoch 89/100:\n",
      "Train Loss: 0.1459, Val Loss: 0.1615\n",
      "--------------------------------------------------\n"
     ]
    },
    {
     "name": "stderr",
     "output_type": "stream",
     "text": [
      "Epoch 90/100 - Train: 100%|██████████| 12/12 [00:04<00:00,  2.67it/s, loss=0.141]\n",
      "Epoch 90/100 - Val: 100%|██████████| 2/2 [00:00<00:00,  3.69it/s, loss=0.158]\n"
     ]
    },
    {
     "name": "stdout",
     "output_type": "stream",
     "text": [
      "Epoch 90/100:\n",
      "Train Loss: 0.1483, Val Loss: 0.1621\n",
      "--------------------------------------------------\n"
     ]
    },
    {
     "name": "stderr",
     "output_type": "stream",
     "text": [
      "Epoch 91/100 - Train: 100%|██████████| 12/12 [00:04<00:00,  2.80it/s, loss=0.181]\n",
      "Epoch 91/100 - Val: 100%|██████████| 2/2 [00:00<00:00,  3.55it/s, loss=0.159]\n"
     ]
    },
    {
     "name": "stdout",
     "output_type": "stream",
     "text": [
      "Epoch 91/100:\n",
      "Train Loss: 0.1482, Val Loss: 0.1622\n",
      "--------------------------------------------------\n"
     ]
    },
    {
     "name": "stderr",
     "output_type": "stream",
     "text": [
      "Epoch 92/100 - Train: 100%|██████████| 12/12 [00:04<00:00,  2.51it/s, loss=0.191]\n",
      "Epoch 92/100 - Val: 100%|██████████| 2/2 [00:00<00:00,  3.76it/s, loss=0.159]\n"
     ]
    },
    {
     "name": "stdout",
     "output_type": "stream",
     "text": [
      "Epoch 92/100:\n",
      "Train Loss: 0.1484, Val Loss: 0.1618\n",
      "--------------------------------------------------\n"
     ]
    },
    {
     "name": "stderr",
     "output_type": "stream",
     "text": [
      "Epoch 93/100 - Train: 100%|██████████| 12/12 [00:04<00:00,  2.80it/s, loss=0.107]\n",
      "Epoch 93/100 - Val: 100%|██████████| 2/2 [00:00<00:00,  3.56it/s, loss=0.158]\n"
     ]
    },
    {
     "name": "stdout",
     "output_type": "stream",
     "text": [
      "Epoch 93/100:\n",
      "Train Loss: 0.1475, Val Loss: 0.1619\n",
      "--------------------------------------------------\n"
     ]
    },
    {
     "name": "stderr",
     "output_type": "stream",
     "text": [
      "Epoch 94/100 - Train: 100%|██████████| 12/12 [00:04<00:00,  2.82it/s, loss=0.16]\n",
      "Epoch 94/100 - Val: 100%|██████████| 2/2 [00:00<00:00,  3.70it/s, loss=0.159]\n"
     ]
    },
    {
     "name": "stdout",
     "output_type": "stream",
     "text": [
      "Epoch 94/100:\n",
      "Train Loss: 0.1504, Val Loss: 0.1625\n",
      "--------------------------------------------------\n"
     ]
    },
    {
     "name": "stderr",
     "output_type": "stream",
     "text": [
      "Epoch 95/100 - Train: 100%|██████████| 12/12 [00:04<00:00,  2.61it/s, loss=0.0859]\n",
      "Epoch 95/100 - Val: 100%|██████████| 2/2 [00:00<00:00,  3.53it/s, loss=0.158]\n"
     ]
    },
    {
     "name": "stdout",
     "output_type": "stream",
     "text": [
      "Epoch 95/100:\n",
      "Train Loss: 0.1481, Val Loss: 0.1629\n",
      "--------------------------------------------------\n"
     ]
    },
    {
     "name": "stderr",
     "output_type": "stream",
     "text": [
      "Epoch 96/100 - Train: 100%|██████████| 12/12 [00:04<00:00,  2.82it/s, loss=0.11]\n",
      "Epoch 96/100 - Val: 100%|██████████| 2/2 [00:00<00:00,  3.35it/s, loss=0.158]\n"
     ]
    },
    {
     "name": "stdout",
     "output_type": "stream",
     "text": [
      "Epoch 96/100:\n",
      "Train Loss: 0.1465, Val Loss: 0.1622\n",
      "--------------------------------------------------\n"
     ]
    },
    {
     "name": "stderr",
     "output_type": "stream",
     "text": [
      "Epoch 97/100 - Train: 100%|██████████| 12/12 [00:04<00:00,  2.83it/s, loss=0.117]\n",
      "Epoch 97/100 - Val: 100%|██████████| 2/2 [00:00<00:00,  3.79it/s, loss=0.159]\n"
     ]
    },
    {
     "name": "stdout",
     "output_type": "stream",
     "text": [
      "Epoch 97/100:\n",
      "Train Loss: 0.1461, Val Loss: 0.1615\n",
      "--------------------------------------------------\n"
     ]
    },
    {
     "name": "stderr",
     "output_type": "stream",
     "text": [
      "Epoch 98/100 - Train: 100%|██████████| 12/12 [00:04<00:00,  2.79it/s, loss=0.288]\n",
      "Epoch 98/100 - Val: 100%|██████████| 2/2 [00:00<00:00,  3.81it/s, loss=0.158]\n"
     ]
    },
    {
     "name": "stdout",
     "output_type": "stream",
     "text": [
      "Epoch 98/100:\n",
      "Train Loss: 0.1505, Val Loss: 0.1615\n",
      "--------------------------------------------------\n"
     ]
    },
    {
     "name": "stderr",
     "output_type": "stream",
     "text": [
      "Epoch 99/100 - Train: 100%|██████████| 12/12 [00:04<00:00,  2.61it/s, loss=0.152]\n",
      "Epoch 99/100 - Val: 100%|██████████| 2/2 [00:00<00:00,  3.64it/s, loss=0.158]\n"
     ]
    },
    {
     "name": "stdout",
     "output_type": "stream",
     "text": [
      "Epoch 99/100:\n",
      "Train Loss: 0.1480, Val Loss: 0.1621\n",
      "--------------------------------------------------\n"
     ]
    },
    {
     "name": "stderr",
     "output_type": "stream",
     "text": [
      "Epoch 100/100 - Train: 100%|██████████| 12/12 [00:04<00:00,  2.82it/s, loss=0.154]\n",
      "Epoch 100/100 - Val: 100%|██████████| 2/2 [00:00<00:00,  3.71it/s, loss=0.158]\n"
     ]
    },
    {
     "name": "stdout",
     "output_type": "stream",
     "text": [
      "Epoch 100/100:\n",
      "Train Loss: 0.1500, Val Loss: 0.1606\n",
      "--------------------------------------------------\n"
     ]
    },
    {
     "data": {
      "text/plain": [
       "<matplotlib.legend.Legend at 0x7db80880fdd0>"
      ]
     },
     "execution_count": 8,
     "metadata": {},
     "output_type": "execute_result"
    },
    {
     "data": {
      "image/png": "[encoded data removed]",
      "text/plain": [
       "<Figure size 1200x400 with 1 Axes>"
      ]
     },
     "metadata": {},
     "output_type": "display_data"
    }
   ],
   "source": [
    "print(\"Training model...\")\n",
    "trained_model, train_losses, val_losses = train_model(\n",
    "    model, train_loader, val_loader, num_epochs=100, learning_rate=1e-3\n",
    ")\n",
    "\n",
    "# Training history\n",
    "plt.figure(figsize=(12, 4))\n",
    "plt.subplot(1, 2, 1)\n",
    "plt.plot(train_losses, label='Train Loss')\n",
    "plt.plot(val_losses, label='Val Loss')\n",
    "plt.title('Training History')\n",
    "plt.xlabel('Epoch')\n",
    "plt.ylabel('Loss')\n",
    "plt.legend()"
   ]
  },
  {
   "cell_type": "code",
   "execution_count": 9,
   "id": "ad1b550a",
   "metadata": {
    "execution": {
     "iopub.execute_input": "2025-09-06T09:13:09.147442Z",
     "iopub.status.busy": "2025-09-06T09:13:09.147143Z",
     "iopub.status.idle": "2025-09-06T09:13:09.154378Z",
     "shell.execute_reply": "2025-09-06T09:13:09.153842Z"
    },
    "papermill": {
     "duration": 0.16055,
     "end_time": "2025-09-06T09:13:09.155381",
     "exception": false,
     "start_time": "2025-09-06T09:13:08.994831",
     "status": "completed"
    },
    "tags": []
   },
   "outputs": [],
   "source": [
    "def predict(model, device, image_tensor):\n",
    "    \"\"\"\n",
    "    segmentation model -> binary mask\n",
    "    \"\"\"\n",
    "    model.eval()\n",
    "    with torch.no_grad():\n",
    "        image_tensor = image_tensor.to(device)\n",
    "        outputs = model(image_tensor)  # (B, C, H, W)\n",
    "        probs = torch.softmax(outputs, dim=1) \n",
    "        binary = probs[:, 1, :, :]  # foreground class\n",
    "        binary = (binary > 0.5).cpu().float()\n",
    "        return binary  # shape (B, H, W)\n",
    "\n",
    "def count_and_draw(binary_mask, original_image, border_size=2, color=(0,255, 0)):\n",
    "    \"\"\"\n",
    "    Đếm và vẽ các đối tượng từ ảnh binary (mask_resized) lên ảnh gốc.\n",
    "    \"\"\"\n",
    "    # đếm trên binary\n",
    "    contours, _ = cv2.findContours(binary_mask, cv2.RETR_EXTERNAL, cv2.CHAIN_APPROX_SIMPLE)\n",
    "    num_objects = len(contours)\n",
    "\n",
    "    # Vẽ contours\n",
    "    overlay = original_image.copy()\n",
    "    cv2.drawContours(overlay, contours, -1, color, border_size)\n",
    "\n",
    "    # Hiển thị kết quả bằng matplotlib\n",
    "    plt.figure(figsize=(12, 5))\n",
    "\n",
    "    # Hiển thị ảnh binary\n",
    "    plt.subplot(1, 2, 1)\n",
    "    plt.imshow(binary_mask, cmap='gray')\n",
    "    plt.title('Binary Mask')\n",
    "    plt.axis('off')\n",
    "\n",
    "    # Hiển thị ảnh với contours\n",
    "    plt.subplot(1, 2, 2)\n",
    "    plt.imshow(overlay)\n",
    "    plt.title(f'Objects Detected: {num_objects}')\n",
    "    plt.axis('off')\n",
    "\n",
    "    plt.tight_layout()\n",
    "    plt.show()\n",
    "\n",
    "    return num_objects, contours\n"
   ]
  },
  {
   "cell_type": "code",
   "execution_count": 10,
   "id": "85e0df7b",
   "metadata": {
    "execution": {
     "iopub.execute_input": "2025-09-06T09:13:09.489606Z",
     "iopub.status.busy": "2025-09-06T09:13:09.489307Z",
     "iopub.status.idle": "2025-09-06T09:13:09.496893Z",
     "shell.execute_reply": "2025-09-06T09:13:09.496226Z"
    },
    "papermill": {
     "duration": 0.186941,
     "end_time": "2025-09-06T09:13:09.498006",
     "exception": false,
     "start_time": "2025-09-06T09:13:09.311065",
     "status": "completed"
    },
    "tags": []
   },
   "outputs": [],
   "source": [
    "def preprocess_image(image):\n",
    "    \"\"\"\n",
    "    Làm rõ biên và giảm nhiễu cho ảnh tế bào.\n",
    "    \"\"\"\n",
    "    # Chuyển xám\n",
    "    gray = cv2.cvtColor(image, cv2.COLOR_BGR2GRAY)\n",
    "\n",
    "    # Làm mờ nhẹ để giảm nhiễu\n",
    "    blur = cv2.GaussianBlur(gray, (3, 3), 0)\n",
    "\n",
    "    # Tăng cường biên bằng CLAHE (adaptive histogram equalization)\n",
    "    clahe = cv2.createCLAHE(clipLimit=2.0, tileGridSize=(8,8))\n",
    "    enhanced = clahe.apply(blur)\n",
    "\n",
    "    # Chuyển lại 3 kênh để phù hợp transform\n",
    "    enhanced_rgb = cv2.cvtColor(enhanced, cv2.COLOR_GRAY2RGB)\n",
    "    return enhanced_rgb\n",
    "\n",
    "\n",
    "def pipline(model, device, image_path, border_size=2, color=(0, 0, 255)):\n",
    "    \"\"\"\n",
    "    Load ảnh, tiền xử lý, dự đoán mask, resize, và count_and_draw.\n",
    "    \"\"\"\n",
    "    # Load ảnh gốc\n",
    "    image = cv2.imread(image_path)\n",
    "    if image is None:\n",
    "        raise FileNotFoundError(f\"Image not found: {image_path}\")\n",
    "    orig_h, orig_w = image.shape[:2]\n",
    "\n",
    "    # Preprocess cho rõ biên tế bào\n",
    "    image_rgb = preprocess_image(image)\n",
    "    org_img_rgb = cv2.cvtColor(image, cv2.COLOR_BGR2RGB)\n",
    "\n",
    "    # Apply transform\n",
    "    transformed = test_transform(image=image_rgb)\n",
    "    input_tensor = transformed[\"image\"].unsqueeze(0)  # (1,3,256,256)\n",
    "\n",
    "    # Predict binary mask\n",
    "    pred_mask = predict(model, device, input_tensor)  # (1,H,W)\n",
    "    binary_mask = pred_mask[0].numpy().astype(np.uint8)  # (H,W)\n",
    "\n",
    "    # Resize mask về kích thước gốc ảnh\n",
    "    mask_resized = cv2.resize(binary_mask, (orig_w, orig_h), interpolation=cv2.INTER_NEAREST)\n",
    "\n",
    "    # count_and_draw\n",
    "    num_objects, contours = count_and_draw(mask_resized, org_img_rgb, border_size=border_size, color=color)\n",
    "    return num_objects"
   ]
  },
  {
   "cell_type": "code",
   "execution_count": 11,
   "id": "9fb65ef9",
   "metadata": {
    "execution": {
     "iopub.execute_input": "2025-09-06T09:13:09.810558Z",
     "iopub.status.busy": "2025-09-06T09:13:09.810076Z",
     "iopub.status.idle": "2025-09-06T09:13:12.077503Z",
     "shell.execute_reply": "2025-09-06T09:13:12.076846Z"
    },
    "papermill": {
     "duration": 2.427284,
     "end_time": "2025-09-06T09:13:12.083603",
     "exception": false,
     "start_time": "2025-09-06T09:13:09.656319",
     "status": "completed"
    },
    "tags": []
   },
   "outputs": [
    {
     "data": {
      "image/png": "[encoded data removed]",
      "text/plain": [
       "<Figure size 1200x500 with 2 Axes>"
      ]
     },
     "metadata": {},
     "output_type": "display_data"
    },
    {
     "data": {
      "text/plain": [
       "62"
      ]
     },
     "execution_count": 11,
     "metadata": {},
     "output_type": "execute_result"
    }
   ],
   "source": [
    "image_path = \"/kaggle/input/cell-counting-roboflow-segmentation-masks/Cell_Counting_dataset_from_roboflow/test/images/Screenshot-2024-08-20-at-3-40-57-PM_png.rf.51490a3f822ef799797a83f5462ccc9a.jpg\"\n",
    "model = smp.Unet(\n",
    "    encoder_name=\"resnet152\",\n",
    "    encoder_weights=\"imagenet\",\n",
    "    classes=2,\n",
    "    activation=None,\n",
    ")\n",
    "model = nn.DataParallel(model)   \n",
    "model.load_state_dict(torch.load(\"best_unet_model.pth\", map_location=device))\n",
    "model.to(device)\n",
    "model.eval()\n",
    "\n",
    "pipline(model,device,image_path)"
   ]
  },
  {
   "cell_type": "markdown",
   "id": "bfa4bc73",
   "metadata": {
    "papermill": {
     "duration": 0.156796,
     "end_time": "2025-09-06T09:13:12.400676",
     "exception": false,
     "start_time": "2025-09-06T09:13:12.243880",
     "status": "completed"
    },
    "tags": []
   },
   "source": [
    "# YOLOv8"
   ]
  },
  {
   "cell_type": "code",
   "execution_count": 12,
   "id": "bf12c8a0",
   "metadata": {
    "execution": {
     "iopub.execute_input": "2025-09-06T09:13:12.762144Z",
     "iopub.status.busy": "2025-09-06T09:13:12.761872Z",
     "iopub.status.idle": "2025-09-06T09:13:12.765299Z",
     "shell.execute_reply": "2025-09-06T09:13:12.764590Z"
    },
    "papermill": {
     "duration": 0.1611,
     "end_time": "2025-09-06T09:13:12.766481",
     "exception": false,
     "start_time": "2025-09-06T09:13:12.605381",
     "status": "completed"
    },
    "scrolled": true,
    "tags": []
   },
   "outputs": [],
   "source": [
    "# model = YOLO('yolov8n.pt')\n",
    "\n",
    "# print(\"Bắt đầu huấn luyện...\")\n",
    "# results = model.train(\n",
    "#     data='/kaggle/input/cell-counting-roboflow-segmentation-masks/Cell_Counting_dataset_from_roboflow/data.yaml',\n",
    "#     epochs=100,\n",
    "#     imgsz=640,\n",
    "#     name='cell_detection_model'\n",
    "# )\n",
    "# print(\"Huấn luyện thành công!\")"
   ]
  },
  {
   "cell_type": "code",
   "execution_count": 13,
   "id": "9dbb8b79",
   "metadata": {
    "execution": {
     "iopub.execute_input": "2025-09-06T09:13:13.078577Z",
     "iopub.status.busy": "2025-09-06T09:13:13.078311Z",
     "iopub.status.idle": "2025-09-06T09:13:13.081941Z",
     "shell.execute_reply": "2025-09-06T09:13:13.081408Z"
    },
    "papermill": {
     "duration": 0.161381,
     "end_time": "2025-09-06T09:13:13.082951",
     "exception": false,
     "start_time": "2025-09-06T09:13:12.921570",
     "status": "completed"
    },
    "tags": []
   },
   "outputs": [],
   "source": [
    "# model_path = '/kaggle/input/cell_counting/pytorch/default/1/best.pt'\n",
    "# try:\n",
    "#     model = YOLO(model_path)\n",
    "# except Exception as e:\n",
    "#     print(f\"Lỗi khi tải mô hình tùy chỉnh: {e}\")\n",
    "#     exit()\n",
    "\n",
    "# image_path = '/kaggle/input/cell-counting-roboflow-segmentation-masks/Cell_Counting_dataset_from_roboflow/test/images/Screenshot-2024-08-20-at-6-10-27-PM_png.rf.cf3e3aac50ec0abae4b45cb33971be50.jpg'\n",
    "# try:\n",
    "#     img = cv2.imread(image_path)\n",
    "#     if img is None:\n",
    "#         raise FileNotFoundError(f\"Không thể đọc ảnh từ đường dẫn: {image_path}\")\n",
    "# except FileNotFoundError as e:\n",
    "#     print(e)\n",
    "#     exit()\n",
    "\n",
    "# results = model(img, conf=0.5)\n",
    "\n",
    "# cell_count = len(results[0])\n",
    "# print(f\"Phát hiện được tổng số: {cell_count} tế bào.\")\n",
    "\n",
    "# # --- 4. HIỂN THỊ KẾT QUẢ ---\n",
    "# annotated_img = results[0].plot(labels=False, conf=False)\n",
    "\n",
    "# # Hiển thị và lưu ảnh\n",
    "# cv2_imshow(annotated_img)"
   ]
  }
 ],
 "metadata": {
  "kaggle": {
   "accelerator": "nvidiaTeslaT4",
   "dataSources": [
    {
     "datasetId": 8050343,
     "sourceId": 12735828,
     "sourceType": "datasetVersion"
    }
   ],
   "dockerImageVersionId": 31090,
   "isGpuEnabled": true,
   "isInternetEnabled": true,
   "language": "python",
   "sourceType": "notebook"
  },
  "kernelspec": {
   "display_name": "Python 3",
   "language": "python",
   "name": "python3"
  },
  "language_info": {
   "codemirror_mode": {
    "name": "ipython",
    "version": 3
   },
   "file_extension": ".py",
   "mimetype": "text/x-python",
   "name": "python",
   "nbconvert_exporter": "python",
   "pygments_lexer": "ipython3",
   "version": "3.11.13"
  },
  "papermill": {
   "default_parameters": {},
   "duration": 608.426588,
   "end_time": "2025-09-06T09:13:16.010769",
   "environment_variables": {},
   "exception": null,
   "input_path": "__notebook__.ipynb",
   "output_path": "__notebook__.ipynb",
   "parameters": {},
   "start_time": "2025-09-06T09:03:07.584181",
   "version": "2.6.0"
  },
  "widgets": {
   "application/vnd.jupyter.widget-state+json": {
    "state": {
     "0b43a02cc4b048a3a181f2834afdb78c": {
      "model_module": "@jupyter-widgets/controls",
      "model_module_version": "2.0.0",
      "model_name": "HTMLModel",
      "state": {
       "_dom_classes": [],
       "_model_module": "@jupyter-widgets/controls",
       "_model_module_version": "2.0.0",
       "_model_name": "HTMLModel",
       "_view_count": null,
       "_view_module": "@jupyter-widgets/controls",
       "_view_module_version": "2.0.0",
       "_view_name": "HTMLView",
       "description": "",
       "description_allow_html": false,
       "layout": "IPY_MODEL_1cae8dea170948abba56aac8dc421b0f",
       "placeholder": "​",
       "style": "IPY_MODEL_e90d29151eb9407f9a0719106911489c",
       "tabbable": null,
       "tooltip": null,
       "value": " 241M/241M [00:01&lt;00:00, 205MB/s]"
      }
     },
     "1cae8dea170948abba56aac8dc421b0f": {
      "model_module": "@jupyter-widgets/base",
      "model_module_version": "2.0.0",
      "model_name": "LayoutModel",
      "state": {
       "_model_module": "@jupyter-widgets/base",
       "_model_module_version": "2.0.0",
       "_model_name": "LayoutModel",
       "_view_count": null,
       "_view_module": "@jupyter-widgets/base",
       "_view_module_version": "2.0.0",
       "_view_name": "LayoutView",
       "align_content": null,
       "align_items": null,
       "align_self": null,
       "border_bottom": null,
       "border_left": null,
       "border_right": null,
       "border_top": null,
       "bottom": null,
       "display": null,
       "flex": null,
       "flex_flow": null,
       "grid_area": null,
       "grid_auto_columns": null,
       "grid_auto_flow": null,
       "grid_auto_rows": null,
       "grid_column": null,
       "grid_gap": null,
       "grid_row": null,
       "grid_template_areas": null,
       "grid_template_columns": null,
       "grid_template_rows": null,
       "height": null,
       "justify_content": null,
       "justify_items": null,
       "left": null,
       "margin": null,
       "max_height": null,
       "max_width": null,
       "min_height": null,
       "min_width": null,
       "object_fit": null,
       "object_position": null,
       "order": null,
       "overflow": null,
       "padding": null,
       "right": null,
       "top": null,
       "visibility": null,
       "width": null
      }
     },
     "2c8bec50e678463a8ab0eb01b20b10e5": {
      "model_module": "@jupyter-widgets/controls",
      "model_module_version": "2.0.0",
      "model_name": "HTMLStyleModel",
      "state": {
       "_model_module": "@jupyter-widgets/controls",
       "_model_module_version": "2.0.0",
       "_model_name": "HTMLStyleModel",
       "_view_count": null,
       "_view_module": "@jupyter-widgets/base",
       "_view_module_version": "2.0.0",
       "_view_name": "StyleView",
       "background": null,
       "description_width": "",
       "font_size": null,
       "text_color": null
      }
     },
     "351f29a642974df0b9832b659928753e": {
      "model_module": "@jupyter-widgets/controls",
      "model_module_version": "2.0.0",
      "model_name": "HBoxModel",
      "state": {
       "_dom_classes": [],
       "_model_module": "@jupyter-widgets/controls",
       "_model_module_version": "2.0.0",
       "_model_name": "HBoxModel",
       "_view_count": null,
       "_view_module": "@jupyter-widgets/controls",
       "_view_module_version": "2.0.0",
       "_view_name": "HBoxView",
       "box_style": "",
       "children": [
        "IPY_MODEL_eac5b2d72bf24fa8ab8c4eac2b4afffd",
        "IPY_MODEL_9bb9911ec08f464f8a5eba7bb6e5806e",
        "IPY_MODEL_0b43a02cc4b048a3a181f2834afdb78c"
       ],
       "layout": "IPY_MODEL_b3363a87a8054b379776a11e4030ba01",
       "tabbable": null,
       "tooltip": null
      }
     },
     "4b941fd3deb54884ad9586f6a58ea34e": {
      "model_module": "@jupyter-widgets/base",
      "model_module_version": "2.0.0",
      "model_name": "LayoutModel",
      "state": {
       "_model_module": "@jupyter-widgets/base",
       "_model_module_version": "2.0.0",
       "_model_name": "LayoutModel",
       "_view_count": null,
       "_view_module": "@jupyter-widgets/base",
       "_view_module_version": "2.0.0",
       "_view_name": "LayoutView",
       "align_content": null,
       "align_items": null,
       "align_self": null,
       "border_bottom": null,
       "border_left": null,
       "border_right": null,
       "border_top": null,
       "bottom": null,
       "display": null,
       "flex": null,
       "flex_flow": null,
       "grid_area": null,
       "grid_auto_columns": null,
       "grid_auto_flow": null,
       "grid_auto_rows": null,
       "grid_column": null,
       "grid_gap": null,
       "grid_row": null,
       "grid_template_areas": null,
       "grid_template_columns": null,
       "grid_template_rows": null,
       "height": null,
       "justify_content": null,
       "justify_items": null,
       "left": null,
       "margin": null,
       "max_height": null,
       "max_width": null,
       "min_height": null,
       "min_width": null,
       "object_fit": null,
       "object_position": null,
       "order": null,
       "overflow": null,
       "padding": null,
       "right": null,
       "top": null,
       "visibility": null,
       "width": null
      }
     },
     "61763f050e004dae9ff0e8546c0bc745": {
      "model_module": "@jupyter-widgets/controls",
      "model_module_version": "2.0.0",
      "model_name": "FloatProgressModel",
      "state": {
       "_dom_classes": [],
       "_model_module": "@jupyter-widgets/controls",
       "_model_module_version": "2.0.0",
       "_model_name": "FloatProgressModel",
       "_view_count": null,
       "_view_module": "@jupyter-widgets/controls",
       "_view_module_version": "2.0.0",
       "_view_name": "ProgressView",
       "bar_style": "success",
       "description": "",
       "description_allow_html": false,
       "layout": "IPY_MODEL_9a14e49f425c485ea458832cc8bc9560",
       "max": 156.0,
       "min": 0.0,
       "orientation": "horizontal",
       "style": "IPY_MODEL_6f35793f26e04696bd455189962b5b56",
       "tabbable": null,
       "tooltip": null,
       "value": 156.0
      }
     },
     "6e5f75a8bf97400cb4e209961cdd7c86": {
      "model_module": "@jupyter-widgets/controls",
      "model_module_version": "2.0.0",
      "model_name": "ProgressStyleModel",
      "state": {
       "_model_module": "@jupyter-widgets/controls",
       "_model_module_version": "2.0.0",
       "_model_name": "ProgressStyleModel",
       "_view_count": null,
       "_view_module": "@jupyter-widgets/base",
       "_view_module_version": "2.0.0",
       "_view_name": "StyleView",
       "bar_color": null,
       "description_width": ""
      }
     },
     "6f35793f26e04696bd455189962b5b56": {
      "model_module": "@jupyter-widgets/controls",
      "model_module_version": "2.0.0",
      "model_name": "ProgressStyleModel",
      "state": {
       "_model_module": "@jupyter-widgets/controls",
       "_model_module_version": "2.0.0",
       "_model_name": "ProgressStyleModel",
       "_view_count": null,
       "_view_module": "@jupyter-widgets/base",
       "_view_module_version": "2.0.0",
       "_view_name": "StyleView",
       "bar_color": null,
       "description_width": ""
      }
     },
     "852c574336094a62a1a8a658321ffadd": {
      "model_module": "@jupyter-widgets/controls",
      "model_module_version": "2.0.0",
      "model_name": "HTMLStyleModel",
      "state": {
       "_model_module": "@jupyter-widgets/controls",
       "_model_module_version": "2.0.0",
       "_model_name": "HTMLStyleModel",
       "_view_count": null,
       "_view_module": "@jupyter-widgets/base",
       "_view_module_version": "2.0.0",
       "_view_name": "StyleView",
       "background": null,
       "description_width": "",
       "font_size": null,
       "text_color": null
      }
     },
     "92b5a5c96eb34547bdd8f371834a9f7d": {
      "model_module": "@jupyter-widgets/controls",
      "model_module_version": "2.0.0",
      "model_name": "HTMLModel",
      "state": {
       "_dom_classes": [],
       "_model_module": "@jupyter-widgets/controls",
       "_model_module_version": "2.0.0",
       "_model_name": "HTMLModel",
       "_view_count": null,
       "_view_module": "@jupyter-widgets/controls",
       "_view_module_version": "2.0.0",
       "_view_name": "HTMLView",
       "description": "",
       "description_allow_html": false,
       "layout": "IPY_MODEL_d9a5b93a1042417782714f39c062af36",
       "placeholder": "​",
       "style": "IPY_MODEL_852c574336094a62a1a8a658321ffadd",
       "tabbable": null,
       "tooltip": null,
       "value": " 156/156 [00:00&lt;00:00, 17.2kB/s]"
      }
     },
     "96c6c7c1bec44888bd98e4eeac1be66a": {
      "model_module": "@jupyter-widgets/controls",
      "model_module_version": "2.0.0",
      "model_name": "HBoxModel",
      "state": {
       "_dom_classes": [],
       "_model_module": "@jupyter-widgets/controls",
       "_model_module_version": "2.0.0",
       "_model_name": "HBoxModel",
       "_view_count": null,
       "_view_module": "@jupyter-widgets/controls",
       "_view_module_version": "2.0.0",
       "_view_name": "HBoxView",
       "box_style": "",
       "children": [
        "IPY_MODEL_a54394ac986e457d947cc8ccff59889f",
        "IPY_MODEL_61763f050e004dae9ff0e8546c0bc745",
        "IPY_MODEL_92b5a5c96eb34547bdd8f371834a9f7d"
       ],
       "layout": "IPY_MODEL_d75eb1f0a6794dc5a570ec5a990d944f",
       "tabbable": null,
       "tooltip": null
      }
     },
     "9a14e49f425c485ea458832cc8bc9560": {
      "model_module": "@jupyter-widgets/base",
      "model_module_version": "2.0.0",
      "model_name": "LayoutModel",
      "state": {
       "_model_module": "@jupyter-widgets/base",
       "_model_module_version": "2.0.0",
       "_model_name": "LayoutModel",
       "_view_count": null,
       "_view_module": "@jupyter-widgets/base",
       "_view_module_version": "2.0.0",
       "_view_name": "LayoutView",
       "align_content": null,
       "align_items": null,
       "align_self": null,
       "border_bottom": null,
       "border_left": null,
       "border_right": null,
       "border_top": null,
       "bottom": null,
       "display": null,
       "flex": null,
       "flex_flow": null,
       "grid_area": null,
       "grid_auto_columns": null,
       "grid_auto_flow": null,
       "grid_auto_rows": null,
       "grid_column": null,
       "grid_gap": null,
       "grid_row": null,
       "grid_template_areas": null,
       "grid_template_columns": null,
       "grid_template_rows": null,
       "height": null,
       "justify_content": null,
       "justify_items": null,
       "left": null,
       "margin": null,
       "max_height": null,
       "max_width": null,
       "min_height": null,
       "min_width": null,
       "object_fit": null,
       "object_position": null,
       "order": null,
       "overflow": null,
       "padding": null,
       "right": null,
       "top": null,
       "visibility": null,
       "width": null
      }
     },
     "9bb9911ec08f464f8a5eba7bb6e5806e": {
      "model_module": "@jupyter-widgets/controls",
      "model_module_version": "2.0.0",
      "model_name": "FloatProgressModel",
      "state": {
       "_dom_classes": [],
       "_model_module": "@jupyter-widgets/controls",
       "_model_module_version": "2.0.0",
       "_model_name": "FloatProgressModel",
       "_view_count": null,
       "_view_module": "@jupyter-widgets/controls",
       "_view_module_version": "2.0.0",
       "_view_name": "ProgressView",
       "bar_style": "success",
       "description": "",
       "description_allow_html": false,
       "layout": "IPY_MODEL_e5f004d480a741b28af5548e477bee08",
       "max": 241448640.0,
       "min": 0.0,
       "orientation": "horizontal",
       "style": "IPY_MODEL_6e5f75a8bf97400cb4e209961cdd7c86",
       "tabbable": null,
       "tooltip": null,
       "value": 241448640.0
      }
     },
     "a54394ac986e457d947cc8ccff59889f": {
      "model_module": "@jupyter-widgets/controls",
      "model_module_version": "2.0.0",
      "model_name": "HTMLModel",
      "state": {
       "_dom_classes": [],
       "_model_module": "@jupyter-widgets/controls",
       "_model_module_version": "2.0.0",
       "_model_name": "HTMLModel",
       "_view_count": null,
       "_view_module": "@jupyter-widgets/controls",
       "_view_module_version": "2.0.0",
       "_view_name": "HTMLView",
       "description": "",
       "description_allow_html": false,
       "layout": "IPY_MODEL_c9bf2b726c2846988df084a980fbcd91",
       "placeholder": "​",
       "style": "IPY_MODEL_2c8bec50e678463a8ab0eb01b20b10e5",
       "tabbable": null,
       "tooltip": null,
       "value": "config.json: 100%"
      }
     },
     "b3363a87a8054b379776a11e4030ba01": {
      "model_module": "@jupyter-widgets/base",
      "model_module_version": "2.0.0",
      "model_name": "LayoutModel",
      "state": {
       "_model_module": "@jupyter-widgets/base",
       "_model_module_version": "2.0.0",
       "_model_name": "LayoutModel",
       "_view_count": null,
       "_view_module": "@jupyter-widgets/base",
       "_view_module_version": "2.0.0",
       "_view_name": "LayoutView",
       "align_content": null,
       "align_items": null,
       "align_self": null,
       "border_bottom": null,
       "border_left": null,
       "border_right": null,
       "border_top": null,
       "bottom": null,
       "display": null,
       "flex": null,
       "flex_flow": null,
       "grid_area": null,
       "grid_auto_columns": null,
       "grid_auto_flow": null,
       "grid_auto_rows": null,
       "grid_column": null,
       "grid_gap": null,
       "grid_row": null,
       "grid_template_areas": null,
       "grid_template_columns": null,
       "grid_template_rows": null,
       "height": null,
       "justify_content": null,
       "justify_items": null,
       "left": null,
       "margin": null,
       "max_height": null,
       "max_width": null,
       "min_height": null,
       "min_width": null,
       "object_fit": null,
       "object_position": null,
       "order": null,
       "overflow": null,
       "padding": null,
       "right": null,
       "top": null,
       "visibility": null,
       "width": null
      }
     },
     "c9bf2b726c2846988df084a980fbcd91": {
      "model_module": "@jupyter-widgets/base",
      "model_module_version": "2.0.0",
      "model_name": "LayoutModel",
      "state": {
       "_model_module": "@jupyter-widgets/base",
       "_model_module_version": "2.0.0",
       "_model_name": "LayoutModel",
       "_view_count": null,
       "_view_module": "@jupyter-widgets/base",
       "_view_module_version": "2.0.0",
       "_view_name": "LayoutView",
       "align_content": null,
       "align_items": null,
       "align_self": null,
       "border_bottom": null,
       "border_left": null,
       "border_right": null,
       "border_top": null,
       "bottom": null,
       "display": null,
       "flex": null,
       "flex_flow": null,
       "grid_area": null,
       "grid_auto_columns": null,
       "grid_auto_flow": null,
       "grid_auto_rows": null,
       "grid_column": null,
       "grid_gap": null,
       "grid_row": null,
       "grid_template_areas": null,
       "grid_template_columns": null,
       "grid_template_rows": null,
       "height": null,
       "justify_content": null,
       "justify_items": null,
       "left": null,
       "margin": null,
       "max_height": null,
       "max_width": null,
       "min_height": null,
       "min_width": null,
       "object_fit": null,
       "object_position": null,
       "order": null,
       "overflow": null,
       "padding": null,
       "right": null,
       "top": null,
       "visibility": null,
       "width": null
      }
     },
     "d75eb1f0a6794dc5a570ec5a990d944f": {
      "model_module": "@jupyter-widgets/base",
      "model_module_version": "2.0.0",
      "model_name": "LayoutModel",
      "state": {
       "_model_module": "@jupyter-widgets/base",
       "_model_module_version": "2.0.0",
       "_model_name": "LayoutModel",
       "_view_count": null,
       "_view_module": "@jupyter-widgets/base",
       "_view_module_version": "2.0.0",
       "_view_name": "LayoutView",
       "align_content": null,
       "align_items": null,
       "align_self": null,
       "border_bottom": null,
       "border_left": null,
       "border_right": null,
       "border_top": null,
       "bottom": null,
       "display": null,
       "flex": null,
       "flex_flow": null,
       "grid_area": null,
       "grid_auto_columns": null,
       "grid_auto_flow": null,
       "grid_auto_rows": null,
       "grid_column": null,
       "grid_gap": null,
       "grid_row": null,
       "grid_template_areas": null,
       "grid_template_columns": null,
       "grid_template_rows": null,
       "height": null,
       "justify_content": null,
       "justify_items": null,
       "left": null,
       "margin": null,
       "max_height": null,
       "max_width": null,
       "min_height": null,
       "min_width": null,
       "object_fit": null,
       "object_position": null,
       "order": null,
       "overflow": null,
       "padding": null,
       "right": null,
       "top": null,
       "visibility": null,
       "width": null
      }
     },
     "d9a5b93a1042417782714f39c062af36": {
      "model_module": "@jupyter-widgets/base",
      "model_module_version": "2.0.0",
      "model_name": "LayoutModel",
      "state": {
       "_model_module": "@jupyter-widgets/base",
       "_model_module_version": "2.0.0",
       "_model_name": "LayoutModel",
       "_view_count": null,
       "_view_module": "@jupyter-widgets/base",
       "_view_module_version": "2.0.0",
       "_view_name": "LayoutView",
       "align_content": null,
       "align_items": null,
       "align_self": null,
       "border_bottom": null,
       "border_left": null,
       "border_right": null,
       "border_top": null,
       "bottom": null,
       "display": null,
       "flex": null,
       "flex_flow": null,
       "grid_area": null,
       "grid_auto_columns": null,
       "grid_auto_flow": null,
       "grid_auto_rows": null,
       "grid_column": null,
       "grid_gap": null,
       "grid_row": null,
       "grid_template_areas": null,
       "grid_template_columns": null,
       "grid_template_rows": null,
       "height": null,
       "justify_content": null,
       "justify_items": null,
       "left": null,
       "margin": null,
       "max_height": null,
       "max_width": null,
       "min_height": null,
       "min_width": null,
       "object_fit": null,
       "object_position": null,
       "order": null,
       "overflow": null,
       "padding": null,
       "right": null,
       "top": null,
       "visibility": null,
       "width": null
      }
     },
     "e5f004d480a741b28af5548e477bee08": {
      "model_module": "@jupyter-widgets/base",
      "model_module_version": "2.0.0",
      "model_name": "LayoutModel",
      "state": {
       "_model_module": "@jupyter-widgets/base",
       "_model_module_version": "2.0.0",
       "_model_name": "LayoutModel",
       "_view_count": null,
       "_view_module": "@jupyter-widgets/base",
       "_view_module_version": "2.0.0",
       "_view_name": "LayoutView",
       "align_content": null,
       "align_items": null,
       "align_self": null,
       "border_bottom": null,
       "border_left": null,
       "border_right": null,
       "border_top": null,
       "bottom": null,
       "display": null,
       "flex": null,
       "flex_flow": null,
       "grid_area": null,
       "grid_auto_columns": null,
       "grid_auto_flow": null,
       "grid_auto_rows": null,
       "grid_column": null,
       "grid_gap": null,
       "grid_row": null,
       "grid_template_areas": null,
       "grid_template_columns": null,
       "grid_template_rows": null,
       "height": null,
       "justify_content": null,
       "justify_items": null,
       "left": null,
       "margin": null,
       "max_height": null,
       "max_width": null,
       "min_height": null,
       "min_width": null,
       "object_fit": null,
       "object_position": null,
       "order": null,
       "overflow": null,
       "padding": null,
       "right": null,
       "top": null,
       "visibility": null,
       "width": null
      }
     },
     "e90d29151eb9407f9a0719106911489c": {
      "model_module": "@jupyter-widgets/controls",
      "model_module_version": "2.0.0",
      "model_name": "HTMLStyleModel",
      "state": {
       "_model_module": "@jupyter-widgets/controls",
       "_model_module_version": "2.0.0",
       "_model_name": "HTMLStyleModel",
       "_view_count": null,
       "_view_module": "@jupyter-widgets/base",
       "_view_module_version": "2.0.0",
       "_view_name": "StyleView",
       "background": null,
       "description_width": "",
       "font_size": null,
       "text_color": null
      }
     },
     "eac5b2d72bf24fa8ab8c4eac2b4afffd": {
      "model_module": "@jupyter-widgets/controls",
      "model_module_version": "2.0.0",
      "model_name": "HTMLModel",
      "state": {
       "_dom_classes": [],
       "_model_module": "@jupyter-widgets/controls",
       "_model_module_version": "2.0.0",
       "_model_name": "HTMLModel",
       "_view_count": null,
       "_view_module": "@jupyter-widgets/controls",
       "_view_module_version": "2.0.0",
       "_view_name": "HTMLView",
       "description": "",
       "description_allow_html": false,
       "layout": "IPY_MODEL_4b941fd3deb54884ad9586f6a58ea34e",
       "placeholder": "​",
       "style": "IPY_MODEL_fb1c8ca7c3f94d16bcdaa2bf98ae0142",
       "tabbable": null,
       "tooltip": null,
       "value": "model.safetensors: 100%"
      }
     },
     "fb1c8ca7c3f94d16bcdaa2bf98ae0142": {
      "model_module": "@jupyter-widgets/controls",
      "model_module_version": "2.0.0",
      "model_name": "HTMLStyleModel",
      "state": {
       "_model_module": "@jupyter-widgets/controls",
       "_model_module_version": "2.0.0",
       "_model_name": "HTMLStyleModel",
       "_view_count": null,
       "_view_module": "@jupyter-widgets/base",
       "_view_module_version": "2.0.0",
       "_view_name": "StyleView",
       "background": null,
       "description_width": "",
       "font_size": null,
       "text_color": null
      }
     }
    },
    "version_major": 2,
    "version_minor": 0
   }
  }
 },
 "nbformat": 4,
 "nbformat_minor": 5
}
